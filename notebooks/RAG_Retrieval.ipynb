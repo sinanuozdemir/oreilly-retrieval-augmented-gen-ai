{
 "cells": [
  {
   "cell_type": "markdown",
   "id": "WaIDlfzUJXjN",
   "metadata": {
    "id": "WaIDlfzUJXjN"
   },
   "source": [
    "# Putting the R(etrieval) in RAG"
   ]
  },
  {
   "cell_type": "code",
   "execution_count": 1,
   "id": "833e196f-404c-4b0b-b525-63d3e812ac17",
   "metadata": {},
   "outputs": [],
   "source": [
    "!python -m pip install -U -qq pinecone"
   ]
  },
  {
   "cell_type": "code",
   "execution_count": 2,
   "id": "aLyppGK_hSi6",
   "metadata": {
    "id": "aLyppGK_hSi6"
   },
   "outputs": [],
   "source": [
    "from openai import OpenAI\n",
    "from pinecone import Pinecone, ServerlessSpec\n",
    "import hashlib\n",
    "import os\n",
    "import re\n",
    "from datetime import datetime, timezone\n",
    "from bs4 import BeautifulSoup\n",
    "import requests\n",
    "\n",
    "from tqdm import tqdm"
   ]
  },
  {
   "cell_type": "code",
   "execution_count": 7,
   "id": "f0289c54",
   "metadata": {
    "id": "f0289c54"
   },
   "outputs": [],
   "source": [
    "# Retrieve the Pinecone API key from user data\n",
    "pinecone_key = os.environ.get('PINECONE_API_KEY')\n",
    "\n",
    "# Initialize the OpenAI client with the API key from user data\n",
    "client = OpenAI(\n",
    "    api_key=os.environ.get('OPENAI_API_KEY')\n",
    ")\n",
    "\n",
    "# Define constants for the Pinecone index, namespace, and engine\n",
    "ENGINE = 'text-embedding-3-small'  # The embedding model to use (vector size 1,536)\n",
    "\n",
    "# Initialize the Pinecone client with the retrieved API key\n",
    "pc = Pinecone(\n",
    "    api_key=pinecone_key\n",
    ")\n"
   ]
  },
  {
   "cell_type": "code",
   "execution_count": 9,
   "id": "3cf993a3-6d51-49f4-8968-60f654d6202d",
   "metadata": {
    "colab": {
     "base_uri": "https://localhost:8080/"
    },
    "id": "3cf993a3-6d51-49f4-8968-60f654d6202d",
    "outputId": "194a6da8-2de8-4ca8-d616-8cb1381a3154"
   },
   "outputs": [
    {
     "data": {
      "text/plain": [
       "(1536, 2)"
      ]
     },
     "execution_count": 9,
     "metadata": {},
     "output_type": "execute_result"
    }
   ],
   "source": [
    "INDEX_NAME = 'rag-basics'  # The name of the Pinecone index\n",
    "NAMESPACE = 'default'  # The namespace to use within the index\n",
    "\n",
    "# Function to get embeddings for a list of texts using the OpenAI API\n",
    "def get_embeddings(texts, engine=ENGINE):\n",
    "    # Create embeddings for the input texts using the specified engine\n",
    "    response = client.embeddings.create(\n",
    "        input=texts,\n",
    "        model=engine\n",
    "    )\n",
    "\n",
    "    # Extract and return the list of embeddings from the response\n",
    "    return [d.embedding for d in list(response.data)]\n",
    "\n",
    "# Function to get embedding for a single text using the OpenAI API\n",
    "def get_embedding(text, engine=ENGINE):\n",
    "    # Use the get_embeddings function to get the embedding for a single text\n",
    "    return get_embeddings([text], engine)[0]\n",
    "\n",
    "# Test the functions by getting the length of a single embedding and a list of embeddings\n",
    "len(get_embedding('hi')), len(get_embeddings(['hi', 'hello']))"
   ]
  },
  {
   "cell_type": "code",
   "execution_count": 10,
   "id": "ea70672a",
   "metadata": {
    "colab": {
     "base_uri": "https://localhost:8080/"
    },
    "id": "ea70672a",
    "outputId": "07f43e03-87d2-4d8f-b593-f5bb89c211c1"
   },
   "outputs": [
    {
     "name": "stdout",
     "output_type": "stream",
     "text": [
      "Creating index rag-basics\n"
     ]
    },
    {
     "data": {
      "text/plain": [
       "<pinecone.data.index.Index at 0x10a6ed1f0>"
      ]
     },
     "execution_count": 10,
     "metadata": {},
     "output_type": "execute_result"
    }
   ],
   "source": [
    "if INDEX_NAME not in pc.list_indexes().names():  # need to create the index\n",
    "    print(f'Creating index {INDEX_NAME}')\n",
    "    pc.create_index(\n",
    "        name=INDEX_NAME,  # The name of the index\n",
    "        dimension=1536,  # The dimensionality of the vectors for our OpenAI embedder\n",
    "        metric='cosine',  # The similarity metric to use when searching the index\n",
    "        spec=ServerlessSpec(\n",
    "            cloud='aws',\n",
    "            region='us-east-1'\n",
    "        )\n",
    "    )\n",
    "\n",
    "# Store the index as a variable\n",
    "index = pc.Index(name=INDEX_NAME)\n",
    "index"
   ]
  },
  {
   "cell_type": "code",
   "execution_count": 11,
   "id": "227a4dd6-5c3d-40be-ab59-8067f6f0041b",
   "metadata": {},
   "outputs": [],
   "source": [
    "# index.delete(delete_all=True, namespace=NAMESPACE) # TO delete all vectors, be careful!"
   ]
  },
  {
   "cell_type": "code",
   "execution_count": 12,
   "id": "b6103d6c",
   "metadata": {
    "colab": {
     "base_uri": "https://localhost:8080/"
    },
    "id": "b6103d6c",
    "outputId": "11547a08-9982-4cc9-8b08-ecc27111e1a8"
   },
   "outputs": [
    {
     "data": {
      "text/plain": [
       "{'dimension': 1536,\n",
       " 'index_fullness': 0.0,\n",
       " 'namespaces': {},\n",
       " 'total_vector_count': 0}"
      ]
     },
     "execution_count": 12,
     "metadata": {},
     "output_type": "execute_result"
    }
   ],
   "source": [
    "index.describe_index_stats()"
   ]
  },
  {
   "cell_type": "code",
   "execution_count": 13,
   "id": "7f2fdfe7",
   "metadata": {
    "colab": {
     "base_uri": "https://localhost:8080/",
     "height": 35
    },
    "id": "7f2fdfe7",
    "outputId": "c2656ea0-6fca-4907-fa2e-b46e122e72a6"
   },
   "outputs": [
    {
     "data": {
      "text/plain": [
       "'ae76cc4dfd345ecaeea9b8ba0d5c3437'"
      ]
     },
     "execution_count": 13,
     "metadata": {},
     "output_type": "execute_result"
    }
   ],
   "source": [
    "def my_hash(s):\n",
    "    # Return the MD5 hash of the input string as a hexadecimal string\n",
    "    return hashlib.md5(s.encode()).hexdigest()\n",
    "\n",
    "my_hash('I love to hash it')"
   ]
  },
  {
   "cell_type": "code",
   "execution_count": 14,
   "id": "ecd86f51",
   "metadata": {
    "id": "ecd86f51"
   },
   "outputs": [],
   "source": [
    "def prepare_for_pinecone(texts, engine=ENGINE, urls=None):\n",
    "    # Get the current UTC date and time\n",
    "    now = datetime.now(timezone.utc).isoformat()\n",
    "\n",
    "    # Generate vector embeddings for each string in the input list, using the specified engine\n",
    "    embeddings = get_embeddings(texts, engine=engine)\n",
    "\n",
    "    # Create tuples of (hash, embedding, metadata) for each input string and its corresponding vector embedding\n",
    "    # The my_hash() function is used to generate a unique hash for each string, and the datetime.utcnow() function is used to generate the current UTC date and time\n",
    "    responses = [\n",
    "        (\n",
    "            my_hash(text),  # A unique ID for each string, generated using the my_hash() function\n",
    "            embedding,  # The vector embedding of the string\n",
    "            dict(text=text, date_uploaded=now)  # A dictionary of metadata, including the original text and the current UTC date and time\n",
    "        )\n",
    "        for text, embedding in zip(texts, embeddings)  # Iterate over each input string and its corresponding vector embedding\n",
    "    ]\n",
    "    if urls and len(urls) == len(texts):\n",
    "        for response, url in zip(responses, urls):\n",
    "            response[-1]['url'] = url\n",
    "\n",
    "    return responses\n"
   ]
  },
  {
   "cell_type": "code",
   "execution_count": 15,
   "id": "4c40d99a",
   "metadata": {
    "id": "4c40d99a"
   },
   "outputs": [],
   "source": [
    "texts = ['hi']"
   ]
  },
  {
   "cell_type": "code",
   "execution_count": 16,
   "id": "3e1b73f3",
   "metadata": {
    "colab": {
     "base_uri": "https://localhost:8080/"
    },
    "id": "3e1b73f3",
    "outputId": "9098032f-8b27-48c8-99cc-2500d2eec532"
   },
   "outputs": [
    {
     "name": "stdout",
     "output_type": "stream",
     "text": [
      "ID:   49f68a5c8493ec2c0bf489821c21fc3b \n",
      "LEN:  1536 \n",
      "META: {'text': 'hi', 'date_uploaded': '2025-10-21T16:06:34.015837+00:00'}\n"
     ]
    }
   ],
   "source": [
    "_id, embedding, metadata = prepare_for_pinecone(texts)[0]\n",
    "\n",
    "print('ID:  ',_id, '\\nLEN: ', len(embedding), '\\nMETA:', metadata)"
   ]
  },
  {
   "cell_type": "code",
   "execution_count": 17,
   "id": "b49debd5",
   "metadata": {
    "colab": {
     "base_uri": "https://localhost:8080/"
    },
    "id": "b49debd5",
    "outputId": "4188bdb8-99d1-4537-891c-d8b52882ebe9"
   },
   "outputs": [
    {
     "name": "stdout",
     "output_type": "stream",
     "text": [
      "ID:   49f68a5c8493ec2c0bf489821c21fc3b \n",
      "LEN:  1536 \n",
      "META: {'text': 'hi', 'date_uploaded': '2025-10-21T16:06:35.397368+00:00', 'url': 'fake.url'}\n"
     ]
    }
   ],
   "source": [
    "urls = ['fake.url']\n",
    "_id, embedding, metadata = prepare_for_pinecone(texts, urls=urls)[0]\n",
    "\n",
    "print('ID:  ',_id, '\\nLEN: ', len(embedding), '\\nMETA:', metadata)"
   ]
  },
  {
   "cell_type": "code",
   "execution_count": 18,
   "id": "bf47aabd",
   "metadata": {
    "id": "bf47aabd"
   },
   "outputs": [],
   "source": [
    "def upload_texts_to_pinecone(texts, namespace=NAMESPACE, batch_size=None, show_progress_bar=False, urls=None):\n",
    "    # Call the prepare_for_pinecone function to prepare the input texts for indexing\n",
    "    total_upserted = 0\n",
    "    if not batch_size:\n",
    "        batch_size = len(texts)\n",
    "\n",
    "    _range = range(0, len(texts), batch_size)\n",
    "    for i in tqdm(_range) if show_progress_bar else _range:\n",
    "        text_batch = texts[i: i + batch_size]\n",
    "        if urls:\n",
    "            url_batch = urls[i: i + batch_size]\n",
    "            prepared_texts = prepare_for_pinecone(text_batch, urls=url_batch)\n",
    "        else:\n",
    "            prepared_texts = prepare_for_pinecone(text_batch)\n",
    "\n",
    "\n",
    "        # Use the upsert() method of the index object to upload the prepared texts to Pinecone\n",
    "        total_upserted += index.upsert(\n",
    "            vectors=prepared_texts,\n",
    "            namespace=namespace\n",
    "        )['upserted_count']\n",
    "\n",
    "\n",
    "    return total_upserted"
   ]
  },
  {
   "cell_type": "code",
   "execution_count": 19,
   "id": "b65cb2e1-f67d-4606-b0ff-c7b67aab04d8",
   "metadata": {
    "colab": {
     "base_uri": "https://localhost:8080/"
    },
    "id": "b65cb2e1-f67d-4606-b0ff-c7b67aab04d8",
    "outputId": "b14cdb39-45a3-47a0-83f8-c3fba92fb0b0"
   },
   "outputs": [
    {
     "name": "stdout",
     "output_type": "stream",
     "text": [
      "1\n"
     ]
    },
    {
     "data": {
      "text/plain": [
       "{'dimension': 1536,\n",
       " 'index_fullness': 0.0,\n",
       " 'namespaces': {},\n",
       " 'total_vector_count': 0}"
      ]
     },
     "execution_count": 19,
     "metadata": {},
     "output_type": "execute_result"
    }
   ],
   "source": [
    "# Call the upload_texts_to_pinecone() function with the input texts\n",
    "print(upload_texts_to_pinecone(texts))\n",
    "\n",
    "index.describe_index_stats()"
   ]
  },
  {
   "cell_type": "code",
   "execution_count": 20,
   "id": "V0XI6RAom-Ln",
   "metadata": {
    "id": "V0XI6RAom-Ln"
   },
   "outputs": [],
   "source": [
    "def query_from_pinecone(query, top_k=3, include_metadata=True):\n",
    "    # get embedding from THE SAME embedder as the documents\n",
    "    query_embedding = get_embedding(query, engine=ENGINE)\n",
    "\n",
    "    return index.query(\n",
    "      vector=query_embedding,\n",
    "      top_k=top_k,\n",
    "      namespace=NAMESPACE,\n",
    "      include_metadata=include_metadata   # gets the metadata (dates, text, etc)\n",
    "    ).get('matches')"
   ]
  },
  {
   "cell_type": "code",
   "execution_count": 21,
   "id": "84a0871f",
   "metadata": {
    "colab": {
     "base_uri": "https://localhost:8080/"
    },
    "id": "84a0871f",
    "outputId": "df6cb931-9cbc-4d53-aa80-5fddfb9cd94a"
   },
   "outputs": [
    {
     "data": {
      "text/plain": [
       "[]"
      ]
     },
     "execution_count": 21,
     "metadata": {},
     "output_type": "execute_result"
    }
   ],
   "source": [
    "# test that the index has a vector\n",
    "query_from_pinecone('hello')"
   ]
  },
  {
   "cell_type": "code",
   "execution_count": 22,
   "id": "13cc8bdc",
   "metadata": {
    "colab": {
     "base_uri": "https://localhost:8080/"
    },
    "id": "13cc8bdc",
    "outputId": "0b5c5582-32f8-4fcc-8aca-e9ac68e7c802"
   },
   "outputs": [
    {
     "data": {
      "text/plain": [
       "{}"
      ]
     },
     "execution_count": 22,
     "metadata": {},
     "output_type": "execute_result"
    }
   ],
   "source": [
    "import hashlib\n",
    "\n",
    "def delete_texts_from_pinecone(texts, namespace=NAMESPACE):\n",
    "    # Compute the hash (id) for each text\n",
    "    hashes = [hashlib.md5(text.encode()).hexdigest() for text in texts]\n",
    "\n",
    "    # The ids parameter is used to specify the list of IDs (hashes) to delete\n",
    "    return index.delete(ids=hashes, namespace=namespace)\n",
    "\n",
    "# delete our text\n",
    "delete_texts_from_pinecone(texts)\n"
   ]
  },
  {
   "cell_type": "code",
   "execution_count": 23,
   "id": "074fab6f",
   "metadata": {
    "colab": {
     "base_uri": "https://localhost:8080/"
    },
    "id": "074fab6f",
    "outputId": "e9086e2b-48dc-4848-9d15-7720033cd2d1"
   },
   "outputs": [
    {
     "data": {
      "text/plain": [
       "{'dimension': 1536,\n",
       " 'index_fullness': 0.0,\n",
       " 'namespaces': {},\n",
       " 'total_vector_count': 0}"
      ]
     },
     "execution_count": 23,
     "metadata": {},
     "output_type": "execute_result"
    }
   ],
   "source": [
    "index.describe_index_stats()"
   ]
  },
  {
   "cell_type": "markdown",
   "id": "6d6bc9a0-786d-4f61-bd73-dcb7a85a3ec5",
   "metadata": {},
   "source": [
    "# \"Borrowing\" Government Data"
   ]
  },
  {
   "cell_type": "code",
   "execution_count": 26,
   "id": "4523cab6-0bc3-4791-9c73-7bd7d7e5858b",
   "metadata": {
    "colab": {
     "base_uri": "https://localhost:8080/"
    },
    "id": "4523cab6-0bc3-4791-9c73-7bd7d7e5858b",
    "outputId": "e1241529-5887-491e-831a-d0b1e473d1cc"
   },
   "outputs": [
    {
     "name": "stdout",
     "output_type": "stream",
     "text": [
      "http://faq.ssa.gov/en-US/topic?id=CAT-01092\n"
     ]
    }
   ],
   "source": [
    "base_url = 'https://faq.ssa.gov'\n",
    "medicare_faqs = base_url + '/en-US/topic?id=CAT-01092'\n",
    "print(medicare_faqs)"
   ]
  },
  {
   "cell_type": "code",
   "execution_count": 29,
   "id": "043bf97a-8b7b-4a3a-b3e1-8ce63db2f0b5",
   "metadata": {},
   "outputs": [
    {
     "name": "stderr",
     "output_type": "stream",
     "text": [
      "/Users/sinanozdemir/Library/Python/3.9/lib/python/site-packages/urllib3/connectionpool.py:1097: InsecureRequestWarning: Unverified HTTPS request is being made to host 'faq.ssa.gov'. Adding certificate verification is strongly advised. See: https://urllib3.readthedocs.io/en/latest/advanced-usage.html#tls-warnings\n",
      "  warnings.warn(\n",
      "/Users/sinanozdemir/Library/Python/3.9/lib/python/site-packages/urllib3/connectionpool.py:1097: InsecureRequestWarning: Unverified HTTPS request is being made to host 'faq.ssa.gov'. Adding certificate verification is strongly advised. See: https://urllib3.readthedocs.io/en/latest/advanced-usage.html#tls-warnings\n",
      "  warnings.warn(\n"
     ]
    },
    {
     "data": {
      "text/plain": [
       "19"
      ]
     },
     "execution_count": 29,
     "metadata": {},
     "output_type": "execute_result"
    }
   ],
   "source": [
    "def find_links_with_pattern(url, pattern):\n",
    "    # Send a GET request to the URL\n",
    "    response = requests.get(url, verify=False)  # 47 let the SSLs expire..\n",
    "    \n",
    "    # Create a BeautifulSoup object\n",
    "    soup = BeautifulSoup(response.text, 'html.parser')\n",
    "    \n",
    "    # Compile the regex pattern\n",
    "    regex = re.compile(pattern)\n",
    "    \n",
    "    # Find all 'a' tags with href attribute matching the pattern\n",
    "    links = soup.find_all('a', href=regex)\n",
    "    \n",
    "    # Extract and return the href values\n",
    "    return [link.get('href') for link in links]\n",
    "\n",
    "# Example usage\n",
    "pattern = r'^/en-US'\n",
    "\n",
    "matching_links = find_links_with_pattern(base_url, pattern)\n",
    "len(matching_links)"
   ]
  },
  {
   "cell_type": "code",
   "execution_count": 32,
   "id": "0113f8cf-56d3-45da-a390-672e714ef721",
   "metadata": {
    "scrolled": true
   },
   "outputs": [
    {
     "name": "stderr",
     "output_type": "stream",
     "text": [
      "  0%|                                                                                                     | 0/19 [00:00<?, ?it/s]/Users/sinanozdemir/Library/Python/3.9/lib/python/site-packages/urllib3/connectionpool.py:1097: InsecureRequestWarning: Unverified HTTPS request is being made to host 'faq.ssa.gov'. Adding certificate verification is strongly advised. See: https://urllib3.readthedocs.io/en/latest/advanced-usage.html#tls-warnings\n",
      "  warnings.warn(\n",
      "  5%|████▉                                                                                        | 1/19 [00:01<00:28,  1.57s/it]/Users/sinanozdemir/Library/Python/3.9/lib/python/site-packages/urllib3/connectionpool.py:1097: InsecureRequestWarning: Unverified HTTPS request is being made to host 'faq.ssa.gov'. Adding certificate verification is strongly advised. See: https://urllib3.readthedocs.io/en/latest/advanced-usage.html#tls-warnings\n",
      "  warnings.warn(\n",
      " 11%|█████████▊                                                                                   | 2/19 [00:02<00:23,  1.38s/it]/Users/sinanozdemir/Library/Python/3.9/lib/python/site-packages/urllib3/connectionpool.py:1097: InsecureRequestWarning: Unverified HTTPS request is being made to host 'faq.ssa.gov'. Adding certificate verification is strongly advised. See: https://urllib3.readthedocs.io/en/latest/advanced-usage.html#tls-warnings\n",
      "  warnings.warn(\n",
      " 16%|██████████████▋                                                                              | 3/19 [00:04<00:22,  1.42s/it]/Users/sinanozdemir/Library/Python/3.9/lib/python/site-packages/urllib3/connectionpool.py:1097: InsecureRequestWarning: Unverified HTTPS request is being made to host 'faq.ssa.gov'. Adding certificate verification is strongly advised. See: https://urllib3.readthedocs.io/en/latest/advanced-usage.html#tls-warnings\n",
      "  warnings.warn(\n",
      " 21%|███████████████████▌                                                                         | 4/19 [00:05<00:20,  1.39s/it]/Users/sinanozdemir/Library/Python/3.9/lib/python/site-packages/urllib3/connectionpool.py:1097: InsecureRequestWarning: Unverified HTTPS request is being made to host 'faq.ssa.gov'. Adding certificate verification is strongly advised. See: https://urllib3.readthedocs.io/en/latest/advanced-usage.html#tls-warnings\n",
      "  warnings.warn(\n",
      " 26%|████████████████████████▍                                                                    | 5/19 [00:06<00:19,  1.36s/it]/Users/sinanozdemir/Library/Python/3.9/lib/python/site-packages/urllib3/connectionpool.py:1097: InsecureRequestWarning: Unverified HTTPS request is being made to host 'faq.ssa.gov'. Adding certificate verification is strongly advised. See: https://urllib3.readthedocs.io/en/latest/advanced-usage.html#tls-warnings\n",
      "  warnings.warn(\n",
      " 32%|█████████████████████████████▎                                                               | 6/19 [00:08<00:17,  1.31s/it]/Users/sinanozdemir/Library/Python/3.9/lib/python/site-packages/urllib3/connectionpool.py:1097: InsecureRequestWarning: Unverified HTTPS request is being made to host 'faq.ssa.gov'. Adding certificate verification is strongly advised. See: https://urllib3.readthedocs.io/en/latest/advanced-usage.html#tls-warnings\n",
      "  warnings.warn(\n",
      " 37%|██████████████████████████████████▎                                                          | 7/19 [00:09<00:15,  1.31s/it]/Users/sinanozdemir/Library/Python/3.9/lib/python/site-packages/urllib3/connectionpool.py:1097: InsecureRequestWarning: Unverified HTTPS request is being made to host 'faq.ssa.gov'. Adding certificate verification is strongly advised. See: https://urllib3.readthedocs.io/en/latest/advanced-usage.html#tls-warnings\n",
      "  warnings.warn(\n",
      " 42%|███████████████████████████████████████▏                                                     | 8/19 [00:10<00:15,  1.38s/it]/Users/sinanozdemir/Library/Python/3.9/lib/python/site-packages/urllib3/connectionpool.py:1097: InsecureRequestWarning: Unverified HTTPS request is being made to host 'faq.ssa.gov'. Adding certificate verification is strongly advised. See: https://urllib3.readthedocs.io/en/latest/advanced-usage.html#tls-warnings\n",
      "  warnings.warn(\n",
      " 47%|████████████████████████████████████████████                                                 | 9/19 [00:12<00:13,  1.36s/it]/Users/sinanozdemir/Library/Python/3.9/lib/python/site-packages/urllib3/connectionpool.py:1097: InsecureRequestWarning: Unverified HTTPS request is being made to host 'faq.ssa.gov'. Adding certificate verification is strongly advised. See: https://urllib3.readthedocs.io/en/latest/advanced-usage.html#tls-warnings\n",
      "  warnings.warn(\n",
      " 53%|████████████████████████████████████████████████▍                                           | 10/19 [00:13<00:11,  1.25s/it]/Users/sinanozdemir/Library/Python/3.9/lib/python/site-packages/urllib3/connectionpool.py:1097: InsecureRequestWarning: Unverified HTTPS request is being made to host 'faq.ssa.gov'. Adding certificate verification is strongly advised. See: https://urllib3.readthedocs.io/en/latest/advanced-usage.html#tls-warnings\n",
      "  warnings.warn(\n",
      " 58%|█████████████████████████████████████████████████████▎                                      | 11/19 [00:14<00:09,  1.18s/it]/Users/sinanozdemir/Library/Python/3.9/lib/python/site-packages/urllib3/connectionpool.py:1097: InsecureRequestWarning: Unverified HTTPS request is being made to host 'faq.ssa.gov'. Adding certificate verification is strongly advised. See: https://urllib3.readthedocs.io/en/latest/advanced-usage.html#tls-warnings\n",
      "  warnings.warn(\n",
      " 63%|██████████████████████████████████████████████████████████                                  | 12/19 [00:15<00:07,  1.13s/it]/Users/sinanozdemir/Library/Python/3.9/lib/python/site-packages/urllib3/connectionpool.py:1097: InsecureRequestWarning: Unverified HTTPS request is being made to host 'faq.ssa.gov'. Adding certificate verification is strongly advised. See: https://urllib3.readthedocs.io/en/latest/advanced-usage.html#tls-warnings\n",
      "  warnings.warn(\n",
      " 68%|██████████████████████████████████████████████████████████████▉                             | 13/19 [00:16<00:07,  1.26s/it]/Users/sinanozdemir/Library/Python/3.9/lib/python/site-packages/urllib3/connectionpool.py:1097: InsecureRequestWarning: Unverified HTTPS request is being made to host 'faq.ssa.gov'. Adding certificate verification is strongly advised. See: https://urllib3.readthedocs.io/en/latest/advanced-usage.html#tls-warnings\n",
      "  warnings.warn(\n",
      " 74%|███████████████████████████████████████████████████████████████████▊                        | 14/19 [00:17<00:05,  1.19s/it]/Users/sinanozdemir/Library/Python/3.9/lib/python/site-packages/urllib3/connectionpool.py:1097: InsecureRequestWarning: Unverified HTTPS request is being made to host 'faq.ssa.gov'. Adding certificate verification is strongly advised. See: https://urllib3.readthedocs.io/en/latest/advanced-usage.html#tls-warnings\n",
      "  warnings.warn(\n",
      " 79%|████████████████████████████████████████████████████████████████████████▋                   | 15/19 [00:18<00:04,  1.12s/it]/Users/sinanozdemir/Library/Python/3.9/lib/python/site-packages/urllib3/connectionpool.py:1097: InsecureRequestWarning: Unverified HTTPS request is being made to host 'faq.ssa.gov'. Adding certificate verification is strongly advised. See: https://urllib3.readthedocs.io/en/latest/advanced-usage.html#tls-warnings\n",
      "  warnings.warn(\n",
      " 84%|█████████████████████████████████████████████████████████████████████████████▍              | 16/19 [00:20<00:03,  1.32s/it]/Users/sinanozdemir/Library/Python/3.9/lib/python/site-packages/urllib3/connectionpool.py:1097: InsecureRequestWarning: Unverified HTTPS request is being made to host 'faq.ssa.gov'. Adding certificate verification is strongly advised. See: https://urllib3.readthedocs.io/en/latest/advanced-usage.html#tls-warnings\n",
      "  warnings.warn(\n",
      " 89%|██████████████████████████████████████████████████████████████████████████████████▎         | 17/19 [00:21<00:02,  1.22s/it]/Users/sinanozdemir/Library/Python/3.9/lib/python/site-packages/urllib3/connectionpool.py:1097: InsecureRequestWarning: Unverified HTTPS request is being made to host 'faq.ssa.gov'. Adding certificate verification is strongly advised. See: https://urllib3.readthedocs.io/en/latest/advanced-usage.html#tls-warnings\n",
      "  warnings.warn(\n",
      " 95%|███████████████████████████████████████████████████████████████████████████████████████▏    | 18/19 [00:23<00:01,  1.36s/it]/Users/sinanozdemir/Library/Python/3.9/lib/python/site-packages/urllib3/connectionpool.py:1097: InsecureRequestWarning: Unverified HTTPS request is being made to host 'faq.ssa.gov'. Adding certificate verification is strongly advised. See: https://urllib3.readthedocs.io/en/latest/advanced-usage.html#tls-warnings\n",
      "  warnings.warn(\n",
      "100%|████████████████████████████████████████████████████████████████████████████████████████████| 19/19 [00:25<00:00,  1.35s/it]\n"
     ]
    },
    {
     "data": {
      "text/plain": [
       "113"
      ]
     },
     "execution_count": 32,
     "metadata": {},
     "output_type": "execute_result"
    }
   ],
   "source": [
    "urls = []\n",
    "\n",
    "for matching_link in tqdm(matching_links):\n",
    "    r = requests.get(base_url + matching_link, verify=False)\n",
    "    soup = BeautifulSoup(r.content, 'html.parser')\n",
    "    for link in soup.find_all('a'):\n",
    "        if 'href' in link.attrs:\n",
    "            if link['href'].startswith('/') and 'article' in link['href']:\n",
    "                urls.append(base_url + link['href'])\n",
    "    \n",
    "urls = list(set([u.lower().strip() for u in urls]))\n",
    "len(urls)"
   ]
  },
  {
   "cell_type": "code",
   "execution_count": 33,
   "id": "47fa962a-1fb8-49c5-a4a5-fd21484baa7d",
   "metadata": {},
   "outputs": [
    {
     "data": {
      "text/plain": [
       "'http://faq.ssa.gov/en-us/topic/article/ka-01759'"
      ]
     },
     "execution_count": 33,
     "metadata": {},
     "output_type": "execute_result"
    }
   ],
   "source": [
    "urls[0]"
   ]
  },
  {
   "cell_type": "code",
   "execution_count": 64,
   "id": "e622fbfa-2dde-4711-9c46-1390eb3430f9",
   "metadata": {
    "colab": {
     "base_uri": "https://localhost:8080/",
     "height": 196
    },
    "id": "e622fbfa-2dde-4711-9c46-1390eb3430f9",
    "outputId": "3f4b6ad7-bb23-4d9f-a99f-11f328adad1a",
    "scrolled": true
   },
   "outputs": [
    {
     "name": "stderr",
     "output_type": "stream",
     "text": [
      "  0%|                                                                                                    | 0/113 [00:00<?, ?it/s]/Users/sinanozdemir/Library/Python/3.9/lib/python/site-packages/urllib3/connectionpool.py:1097: InsecureRequestWarning: Unverified HTTPS request is being made to host 'faq.ssa.gov'. Adding certificate verification is strongly advised. See: https://urllib3.readthedocs.io/en/latest/advanced-usage.html#tls-warnings\n",
      "  warnings.warn(\n",
      "  1%|▊                                                                                           | 1/113 [00:02<04:02,  2.17s/it]/Users/sinanozdemir/Library/Python/3.9/lib/python/site-packages/urllib3/connectionpool.py:1097: InsecureRequestWarning: Unverified HTTPS request is being made to host 'faq.ssa.gov'. Adding certificate verification is strongly advised. See: https://urllib3.readthedocs.io/en/latest/advanced-usage.html#tls-warnings\n",
      "  warnings.warn(\n",
      "  2%|█▋                                                                                          | 2/113 [00:03<03:12,  1.73s/it]/Users/sinanozdemir/Library/Python/3.9/lib/python/site-packages/urllib3/connectionpool.py:1097: InsecureRequestWarning: Unverified HTTPS request is being made to host 'faq.ssa.gov'. Adding certificate verification is strongly advised. See: https://urllib3.readthedocs.io/en/latest/advanced-usage.html#tls-warnings\n",
      "  warnings.warn(\n",
      "  3%|██▍                                                                                         | 3/113 [00:05<02:56,  1.61s/it]/Users/sinanozdemir/Library/Python/3.9/lib/python/site-packages/urllib3/connectionpool.py:1097: InsecureRequestWarning: Unverified HTTPS request is being made to host 'faq.ssa.gov'. Adding certificate verification is strongly advised. See: https://urllib3.readthedocs.io/en/latest/advanced-usage.html#tls-warnings\n",
      "  warnings.warn(\n",
      "  4%|███▎                                                                                        | 4/113 [00:06<02:42,  1.49s/it]/Users/sinanozdemir/Library/Python/3.9/lib/python/site-packages/urllib3/connectionpool.py:1097: InsecureRequestWarning: Unverified HTTPS request is being made to host 'faq.ssa.gov'. Adding certificate verification is strongly advised. See: https://urllib3.readthedocs.io/en/latest/advanced-usage.html#tls-warnings\n",
      "  warnings.warn(\n",
      "  4%|████                                                                                        | 5/113 [00:07<02:40,  1.49s/it]/Users/sinanozdemir/Library/Python/3.9/lib/python/site-packages/urllib3/connectionpool.py:1097: InsecureRequestWarning: Unverified HTTPS request is being made to host 'faq.ssa.gov'. Adding certificate verification is strongly advised. See: https://urllib3.readthedocs.io/en/latest/advanced-usage.html#tls-warnings\n",
      "  warnings.warn(\n",
      "  5%|████▉                                                                                       | 6/113 [00:09<02:35,  1.45s/it]/Users/sinanozdemir/Library/Python/3.9/lib/python/site-packages/urllib3/connectionpool.py:1097: InsecureRequestWarning: Unverified HTTPS request is being made to host 'faq.ssa.gov'. Adding certificate verification is strongly advised. See: https://urllib3.readthedocs.io/en/latest/advanced-usage.html#tls-warnings\n",
      "  warnings.warn(\n",
      "  6%|█████▋                                                                                      | 7/113 [00:10<02:31,  1.43s/it]/Users/sinanozdemir/Library/Python/3.9/lib/python/site-packages/urllib3/connectionpool.py:1097: InsecureRequestWarning: Unverified HTTPS request is being made to host 'faq.ssa.gov'. Adding certificate verification is strongly advised. See: https://urllib3.readthedocs.io/en/latest/advanced-usage.html#tls-warnings\n",
      "  warnings.warn(\n",
      "  7%|██████▌                                                                                     | 8/113 [00:11<02:28,  1.41s/it]/Users/sinanozdemir/Library/Python/3.9/lib/python/site-packages/urllib3/connectionpool.py:1097: InsecureRequestWarning: Unverified HTTPS request is being made to host 'faq.ssa.gov'. Adding certificate verification is strongly advised. See: https://urllib3.readthedocs.io/en/latest/advanced-usage.html#tls-warnings\n",
      "  warnings.warn(\n",
      "  8%|███████▎                                                                                    | 9/113 [00:13<02:37,  1.52s/it]/Users/sinanozdemir/Library/Python/3.9/lib/python/site-packages/urllib3/connectionpool.py:1097: InsecureRequestWarning: Unverified HTTPS request is being made to host 'faq.ssa.gov'. Adding certificate verification is strongly advised. See: https://urllib3.readthedocs.io/en/latest/advanced-usage.html#tls-warnings\n",
      "  warnings.warn(\n",
      "  9%|████████                                                                                   | 10/113 [00:15<02:40,  1.55s/it]/Users/sinanozdemir/Library/Python/3.9/lib/python/site-packages/urllib3/connectionpool.py:1097: InsecureRequestWarning: Unverified HTTPS request is being made to host 'faq.ssa.gov'. Adding certificate verification is strongly advised. See: https://urllib3.readthedocs.io/en/latest/advanced-usage.html#tls-warnings\n",
      "  warnings.warn(\n",
      " 10%|████████▊                                                                                  | 11/113 [00:16<02:37,  1.55s/it]/Users/sinanozdemir/Library/Python/3.9/lib/python/site-packages/urllib3/connectionpool.py:1097: InsecureRequestWarning: Unverified HTTPS request is being made to host 'faq.ssa.gov'. Adding certificate verification is strongly advised. See: https://urllib3.readthedocs.io/en/latest/advanced-usage.html#tls-warnings\n",
      "  warnings.warn(\n",
      " 11%|█████████▋                                                                                 | 12/113 [00:18<02:41,  1.60s/it]/Users/sinanozdemir/Library/Python/3.9/lib/python/site-packages/urllib3/connectionpool.py:1097: InsecureRequestWarning: Unverified HTTPS request is being made to host 'faq.ssa.gov'. Adding certificate verification is strongly advised. See: https://urllib3.readthedocs.io/en/latest/advanced-usage.html#tls-warnings\n",
      "  warnings.warn(\n",
      " 12%|██████████▍                                                                                | 13/113 [00:20<02:35,  1.55s/it]/Users/sinanozdemir/Library/Python/3.9/lib/python/site-packages/urllib3/connectionpool.py:1097: InsecureRequestWarning: Unverified HTTPS request is being made to host 'faq.ssa.gov'. Adding certificate verification is strongly advised. See: https://urllib3.readthedocs.io/en/latest/advanced-usage.html#tls-warnings\n",
      "  warnings.warn(\n",
      " 12%|███████████▎                                                                               | 14/113 [00:21<02:28,  1.50s/it]/Users/sinanozdemir/Library/Python/3.9/lib/python/site-packages/urllib3/connectionpool.py:1097: InsecureRequestWarning: Unverified HTTPS request is being made to host 'faq.ssa.gov'. Adding certificate verification is strongly advised. See: https://urllib3.readthedocs.io/en/latest/advanced-usage.html#tls-warnings\n",
      "  warnings.warn(\n",
      " 13%|████████████                                                                               | 15/113 [00:22<02:25,  1.49s/it]/Users/sinanozdemir/Library/Python/3.9/lib/python/site-packages/urllib3/connectionpool.py:1097: InsecureRequestWarning: Unverified HTTPS request is being made to host 'faq.ssa.gov'. Adding certificate verification is strongly advised. See: https://urllib3.readthedocs.io/en/latest/advanced-usage.html#tls-warnings\n",
      "  warnings.warn(\n",
      " 14%|████████████▉                                                                              | 16/113 [00:24<02:20,  1.45s/it]/Users/sinanozdemir/Library/Python/3.9/lib/python/site-packages/urllib3/connectionpool.py:1097: InsecureRequestWarning: Unverified HTTPS request is being made to host 'faq.ssa.gov'. Adding certificate verification is strongly advised. See: https://urllib3.readthedocs.io/en/latest/advanced-usage.html#tls-warnings\n",
      "  warnings.warn(\n",
      " 15%|█████████████▋                                                                             | 17/113 [00:25<02:13,  1.39s/it]/Users/sinanozdemir/Library/Python/3.9/lib/python/site-packages/urllib3/connectionpool.py:1097: InsecureRequestWarning: Unverified HTTPS request is being made to host 'faq.ssa.gov'. Adding certificate verification is strongly advised. See: https://urllib3.readthedocs.io/en/latest/advanced-usage.html#tls-warnings\n",
      "  warnings.warn(\n",
      " 16%|██████████████▍                                                                            | 18/113 [00:26<02:12,  1.40s/it]/Users/sinanozdemir/Library/Python/3.9/lib/python/site-packages/urllib3/connectionpool.py:1097: InsecureRequestWarning: Unverified HTTPS request is being made to host 'faq.ssa.gov'. Adding certificate verification is strongly advised. See: https://urllib3.readthedocs.io/en/latest/advanced-usage.html#tls-warnings\n",
      "  warnings.warn(\n",
      " 17%|███████████████▎                                                                           | 19/113 [00:28<02:15,  1.44s/it]/Users/sinanozdemir/Library/Python/3.9/lib/python/site-packages/urllib3/connectionpool.py:1097: InsecureRequestWarning: Unverified HTTPS request is being made to host 'faq.ssa.gov'. Adding certificate verification is strongly advised. See: https://urllib3.readthedocs.io/en/latest/advanced-usage.html#tls-warnings\n",
      "  warnings.warn(\n",
      " 18%|████████████████                                                                           | 20/113 [00:29<02:09,  1.39s/it]/Users/sinanozdemir/Library/Python/3.9/lib/python/site-packages/urllib3/connectionpool.py:1097: InsecureRequestWarning: Unverified HTTPS request is being made to host 'faq.ssa.gov'. Adding certificate verification is strongly advised. See: https://urllib3.readthedocs.io/en/latest/advanced-usage.html#tls-warnings\n",
      "  warnings.warn(\n",
      " 19%|████████████████▉                                                                          | 21/113 [00:31<02:16,  1.48s/it]/Users/sinanozdemir/Library/Python/3.9/lib/python/site-packages/urllib3/connectionpool.py:1097: InsecureRequestWarning: Unverified HTTPS request is being made to host 'faq.ssa.gov'. Adding certificate verification is strongly advised. See: https://urllib3.readthedocs.io/en/latest/advanced-usage.html#tls-warnings\n",
      "  warnings.warn(\n",
      " 19%|█████████████████▋                                                                         | 22/113 [00:33<02:24,  1.58s/it]/Users/sinanozdemir/Library/Python/3.9/lib/python/site-packages/urllib3/connectionpool.py:1097: InsecureRequestWarning: Unverified HTTPS request is being made to host 'faq.ssa.gov'. Adding certificate verification is strongly advised. See: https://urllib3.readthedocs.io/en/latest/advanced-usage.html#tls-warnings\n",
      "  warnings.warn(\n",
      " 20%|██████████████████▌                                                                        | 23/113 [00:34<02:18,  1.53s/it]/Users/sinanozdemir/Library/Python/3.9/lib/python/site-packages/urllib3/connectionpool.py:1097: InsecureRequestWarning: Unverified HTTPS request is being made to host 'faq.ssa.gov'. Adding certificate verification is strongly advised. See: https://urllib3.readthedocs.io/en/latest/advanced-usage.html#tls-warnings\n",
      "  warnings.warn(\n",
      " 21%|███████████████████▎                                                                       | 24/113 [00:36<02:11,  1.48s/it]/Users/sinanozdemir/Library/Python/3.9/lib/python/site-packages/urllib3/connectionpool.py:1097: InsecureRequestWarning: Unverified HTTPS request is being made to host 'faq.ssa.gov'. Adding certificate verification is strongly advised. See: https://urllib3.readthedocs.io/en/latest/advanced-usage.html#tls-warnings\n",
      "  warnings.warn(\n",
      " 22%|████████████████████▏                                                                      | 25/113 [00:37<02:13,  1.52s/it]/Users/sinanozdemir/Library/Python/3.9/lib/python/site-packages/urllib3/connectionpool.py:1097: InsecureRequestWarning: Unverified HTTPS request is being made to host 'faq.ssa.gov'. Adding certificate verification is strongly advised. See: https://urllib3.readthedocs.io/en/latest/advanced-usage.html#tls-warnings\n",
      "  warnings.warn(\n",
      " 23%|████████████████████▉                                                                      | 26/113 [00:39<02:07,  1.47s/it]/Users/sinanozdemir/Library/Python/3.9/lib/python/site-packages/urllib3/connectionpool.py:1097: InsecureRequestWarning: Unverified HTTPS request is being made to host 'faq.ssa.gov'. Adding certificate verification is strongly advised. See: https://urllib3.readthedocs.io/en/latest/advanced-usage.html#tls-warnings\n",
      "  warnings.warn(\n",
      " 24%|█████████████████████▋                                                                     | 27/113 [00:40<02:11,  1.53s/it]/Users/sinanozdemir/Library/Python/3.9/lib/python/site-packages/urllib3/connectionpool.py:1097: InsecureRequestWarning: Unverified HTTPS request is being made to host 'faq.ssa.gov'. Adding certificate verification is strongly advised. See: https://urllib3.readthedocs.io/en/latest/advanced-usage.html#tls-warnings\n",
      "  warnings.warn(\n",
      " 25%|██████████████████████▌                                                                    | 28/113 [00:42<02:14,  1.58s/it]/Users/sinanozdemir/Library/Python/3.9/lib/python/site-packages/urllib3/connectionpool.py:1097: InsecureRequestWarning: Unverified HTTPS request is being made to host 'faq.ssa.gov'. Adding certificate verification is strongly advised. See: https://urllib3.readthedocs.io/en/latest/advanced-usage.html#tls-warnings\n",
      "  warnings.warn(\n",
      " 26%|███████████████████████▎                                                                   | 29/113 [00:44<02:14,  1.60s/it]/Users/sinanozdemir/Library/Python/3.9/lib/python/site-packages/urllib3/connectionpool.py:1097: InsecureRequestWarning: Unverified HTTPS request is being made to host 'faq.ssa.gov'. Adding certificate verification is strongly advised. See: https://urllib3.readthedocs.io/en/latest/advanced-usage.html#tls-warnings\n",
      "  warnings.warn(\n",
      " 27%|████████████████████████▏                                                                  | 30/113 [00:46<02:29,  1.80s/it]/Users/sinanozdemir/Library/Python/3.9/lib/python/site-packages/urllib3/connectionpool.py:1097: InsecureRequestWarning: Unverified HTTPS request is being made to host 'faq.ssa.gov'. Adding certificate verification is strongly advised. See: https://urllib3.readthedocs.io/en/latest/advanced-usage.html#tls-warnings\n",
      "  warnings.warn(\n",
      " 27%|████████████████████████▉                                                                  | 31/113 [00:47<02:18,  1.68s/it]/Users/sinanozdemir/Library/Python/3.9/lib/python/site-packages/urllib3/connectionpool.py:1097: InsecureRequestWarning: Unverified HTTPS request is being made to host 'faq.ssa.gov'. Adding certificate verification is strongly advised. See: https://urllib3.readthedocs.io/en/latest/advanced-usage.html#tls-warnings\n",
      "  warnings.warn(\n",
      " 28%|█████████████████████████▊                                                                 | 32/113 [00:49<02:08,  1.59s/it]/Users/sinanozdemir/Library/Python/3.9/lib/python/site-packages/urllib3/connectionpool.py:1097: InsecureRequestWarning: Unverified HTTPS request is being made to host 'faq.ssa.gov'. Adding certificate verification is strongly advised. See: https://urllib3.readthedocs.io/en/latest/advanced-usage.html#tls-warnings\n",
      "  warnings.warn(\n",
      " 29%|██████████████████████████▌                                                                | 33/113 [00:50<02:05,  1.57s/it]/Users/sinanozdemir/Library/Python/3.9/lib/python/site-packages/urllib3/connectionpool.py:1097: InsecureRequestWarning: Unverified HTTPS request is being made to host 'faq.ssa.gov'. Adding certificate verification is strongly advised. See: https://urllib3.readthedocs.io/en/latest/advanced-usage.html#tls-warnings\n",
      "  warnings.warn(\n",
      " 30%|███████████████████████████▍                                                               | 34/113 [00:52<02:00,  1.52s/it]/Users/sinanozdemir/Library/Python/3.9/lib/python/site-packages/urllib3/connectionpool.py:1097: InsecureRequestWarning: Unverified HTTPS request is being made to host 'faq.ssa.gov'. Adding certificate verification is strongly advised. See: https://urllib3.readthedocs.io/en/latest/advanced-usage.html#tls-warnings\n",
      "  warnings.warn(\n",
      " 31%|████████████████████████████▏                                                              | 35/113 [00:53<01:56,  1.50s/it]/Users/sinanozdemir/Library/Python/3.9/lib/python/site-packages/urllib3/connectionpool.py:1097: InsecureRequestWarning: Unverified HTTPS request is being made to host 'faq.ssa.gov'. Adding certificate verification is strongly advised. See: https://urllib3.readthedocs.io/en/latest/advanced-usage.html#tls-warnings\n",
      "  warnings.warn(\n",
      " 32%|████████████████████████████▉                                                              | 36/113 [00:54<01:47,  1.39s/it]/Users/sinanozdemir/Library/Python/3.9/lib/python/site-packages/urllib3/connectionpool.py:1097: InsecureRequestWarning: Unverified HTTPS request is being made to host 'faq.ssa.gov'. Adding certificate verification is strongly advised. See: https://urllib3.readthedocs.io/en/latest/advanced-usage.html#tls-warnings\n",
      "  warnings.warn(\n",
      " 33%|█████████████████████████████▊                                                             | 37/113 [00:56<01:46,  1.40s/it]/Users/sinanozdemir/Library/Python/3.9/lib/python/site-packages/urllib3/connectionpool.py:1097: InsecureRequestWarning: Unverified HTTPS request is being made to host 'faq.ssa.gov'. Adding certificate verification is strongly advised. See: https://urllib3.readthedocs.io/en/latest/advanced-usage.html#tls-warnings\n",
      "  warnings.warn(\n",
      " 34%|██████████████████████████████▌                                                            | 38/113 [00:57<01:46,  1.42s/it]/Users/sinanozdemir/Library/Python/3.9/lib/python/site-packages/urllib3/connectionpool.py:1097: InsecureRequestWarning: Unverified HTTPS request is being made to host 'faq.ssa.gov'. Adding certificate verification is strongly advised. See: https://urllib3.readthedocs.io/en/latest/advanced-usage.html#tls-warnings\n",
      "  warnings.warn(\n",
      " 35%|███████████████████████████████▍                                                           | 39/113 [00:58<01:42,  1.39s/it]/Users/sinanozdemir/Library/Python/3.9/lib/python/site-packages/urllib3/connectionpool.py:1097: InsecureRequestWarning: Unverified HTTPS request is being made to host 'faq.ssa.gov'. Adding certificate verification is strongly advised. See: https://urllib3.readthedocs.io/en/latest/advanced-usage.html#tls-warnings\n",
      "  warnings.warn(\n",
      " 35%|████████████████████████████████▏                                                          | 40/113 [01:00<01:39,  1.37s/it]/Users/sinanozdemir/Library/Python/3.9/lib/python/site-packages/urllib3/connectionpool.py:1097: InsecureRequestWarning: Unverified HTTPS request is being made to host 'faq.ssa.gov'. Adding certificate verification is strongly advised. See: https://urllib3.readthedocs.io/en/latest/advanced-usage.html#tls-warnings\n",
      "  warnings.warn(\n",
      " 36%|█████████████████████████████████                                                          | 41/113 [01:01<01:38,  1.37s/it]/Users/sinanozdemir/Library/Python/3.9/lib/python/site-packages/urllib3/connectionpool.py:1097: InsecureRequestWarning: Unverified HTTPS request is being made to host 'faq.ssa.gov'. Adding certificate verification is strongly advised. See: https://urllib3.readthedocs.io/en/latest/advanced-usage.html#tls-warnings\n",
      "  warnings.warn(\n",
      " 37%|█████████████████████████████████▊                                                         | 42/113 [01:02<01:34,  1.33s/it]/Users/sinanozdemir/Library/Python/3.9/lib/python/site-packages/urllib3/connectionpool.py:1097: InsecureRequestWarning: Unverified HTTPS request is being made to host 'faq.ssa.gov'. Adding certificate verification is strongly advised. See: https://urllib3.readthedocs.io/en/latest/advanced-usage.html#tls-warnings\n",
      "  warnings.warn(\n",
      " 38%|██████████████████████████████████▋                                                        | 43/113 [01:04<01:32,  1.32s/it]/Users/sinanozdemir/Library/Python/3.9/lib/python/site-packages/urllib3/connectionpool.py:1097: InsecureRequestWarning: Unverified HTTPS request is being made to host 'faq.ssa.gov'. Adding certificate verification is strongly advised. See: https://urllib3.readthedocs.io/en/latest/advanced-usage.html#tls-warnings\n",
      "  warnings.warn(\n",
      " 39%|███████████████████████████████████▍                                                       | 44/113 [01:05<01:31,  1.32s/it]/Users/sinanozdemir/Library/Python/3.9/lib/python/site-packages/urllib3/connectionpool.py:1097: InsecureRequestWarning: Unverified HTTPS request is being made to host 'faq.ssa.gov'. Adding certificate verification is strongly advised. See: https://urllib3.readthedocs.io/en/latest/advanced-usage.html#tls-warnings\n",
      "  warnings.warn(\n",
      " 40%|████████████████████████████████████▏                                                      | 45/113 [01:07<01:54,  1.68s/it]/Users/sinanozdemir/Library/Python/3.9/lib/python/site-packages/urllib3/connectionpool.py:1097: InsecureRequestWarning: Unverified HTTPS request is being made to host 'faq.ssa.gov'. Adding certificate verification is strongly advised. See: https://urllib3.readthedocs.io/en/latest/advanced-usage.html#tls-warnings\n",
      "  warnings.warn(\n",
      " 41%|█████████████████████████████████████                                                      | 46/113 [01:09<01:53,  1.69s/it]/Users/sinanozdemir/Library/Python/3.9/lib/python/site-packages/urllib3/connectionpool.py:1097: InsecureRequestWarning: Unverified HTTPS request is being made to host 'faq.ssa.gov'. Adding certificate verification is strongly advised. See: https://urllib3.readthedocs.io/en/latest/advanced-usage.html#tls-warnings\n",
      "  warnings.warn(\n",
      " 42%|█████████████████████████████████████▊                                                     | 47/113 [01:11<01:55,  1.75s/it]/Users/sinanozdemir/Library/Python/3.9/lib/python/site-packages/urllib3/connectionpool.py:1097: InsecureRequestWarning: Unverified HTTPS request is being made to host 'faq.ssa.gov'. Adding certificate verification is strongly advised. See: https://urllib3.readthedocs.io/en/latest/advanced-usage.html#tls-warnings\n",
      "  warnings.warn(\n",
      " 42%|██████████████████████████████████████▋                                                    | 48/113 [01:13<01:59,  1.84s/it]/Users/sinanozdemir/Library/Python/3.9/lib/python/site-packages/urllib3/connectionpool.py:1097: InsecureRequestWarning: Unverified HTTPS request is being made to host 'faq.ssa.gov'. Adding certificate verification is strongly advised. See: https://urllib3.readthedocs.io/en/latest/advanced-usage.html#tls-warnings\n",
      "  warnings.warn(\n",
      " 43%|███████████████████████████████████████▍                                                   | 49/113 [01:14<01:45,  1.64s/it]/Users/sinanozdemir/Library/Python/3.9/lib/python/site-packages/urllib3/connectionpool.py:1097: InsecureRequestWarning: Unverified HTTPS request is being made to host 'faq.ssa.gov'. Adding certificate verification is strongly advised. See: https://urllib3.readthedocs.io/en/latest/advanced-usage.html#tls-warnings\n",
      "  warnings.warn(\n",
      " 44%|████████████████████████████████████████▎                                                  | 50/113 [01:16<01:36,  1.54s/it]/Users/sinanozdemir/Library/Python/3.9/lib/python/site-packages/urllib3/connectionpool.py:1097: InsecureRequestWarning: Unverified HTTPS request is being made to host 'faq.ssa.gov'. Adding certificate verification is strongly advised. See: https://urllib3.readthedocs.io/en/latest/advanced-usage.html#tls-warnings\n",
      "  warnings.warn(\n",
      " 45%|█████████████████████████████████████████                                                  | 51/113 [01:17<01:31,  1.48s/it]/Users/sinanozdemir/Library/Python/3.9/lib/python/site-packages/urllib3/connectionpool.py:1097: InsecureRequestWarning: Unverified HTTPS request is being made to host 'faq.ssa.gov'. Adding certificate verification is strongly advised. See: https://urllib3.readthedocs.io/en/latest/advanced-usage.html#tls-warnings\n",
      "  warnings.warn(\n",
      " 46%|█████████████████████████████████████████▉                                                 | 52/113 [01:18<01:33,  1.53s/it]/Users/sinanozdemir/Library/Python/3.9/lib/python/site-packages/urllib3/connectionpool.py:1097: InsecureRequestWarning: Unverified HTTPS request is being made to host 'faq.ssa.gov'. Adding certificate verification is strongly advised. See: https://urllib3.readthedocs.io/en/latest/advanced-usage.html#tls-warnings\n",
      "  warnings.warn(\n",
      " 47%|██████████████████████████████████████████▋                                                | 53/113 [01:21<01:42,  1.70s/it]/Users/sinanozdemir/Library/Python/3.9/lib/python/site-packages/urllib3/connectionpool.py:1097: InsecureRequestWarning: Unverified HTTPS request is being made to host 'faq.ssa.gov'. Adding certificate verification is strongly advised. See: https://urllib3.readthedocs.io/en/latest/advanced-usage.html#tls-warnings\n",
      "  warnings.warn(\n",
      " 48%|███████████████████████████████████████████▍                                               | 54/113 [01:22<01:37,  1.66s/it]/Users/sinanozdemir/Library/Python/3.9/lib/python/site-packages/urllib3/connectionpool.py:1097: InsecureRequestWarning: Unverified HTTPS request is being made to host 'faq.ssa.gov'. Adding certificate verification is strongly advised. See: https://urllib3.readthedocs.io/en/latest/advanced-usage.html#tls-warnings\n",
      "  warnings.warn(\n",
      " 49%|████████████████████████████████████████████▎                                              | 55/113 [01:23<01:29,  1.54s/it]/Users/sinanozdemir/Library/Python/3.9/lib/python/site-packages/urllib3/connectionpool.py:1097: InsecureRequestWarning: Unverified HTTPS request is being made to host 'faq.ssa.gov'. Adding certificate verification is strongly advised. See: https://urllib3.readthedocs.io/en/latest/advanced-usage.html#tls-warnings\n",
      "  warnings.warn(\n",
      " 50%|█████████████████████████████████████████████                                              | 56/113 [01:25<01:23,  1.47s/it]/Users/sinanozdemir/Library/Python/3.9/lib/python/site-packages/urllib3/connectionpool.py:1097: InsecureRequestWarning: Unverified HTTPS request is being made to host 'faq.ssa.gov'. Adding certificate verification is strongly advised. See: https://urllib3.readthedocs.io/en/latest/advanced-usage.html#tls-warnings\n",
      "  warnings.warn(\n",
      " 50%|█████████████████████████████████████████████▉                                             | 57/113 [01:26<01:19,  1.43s/it]/Users/sinanozdemir/Library/Python/3.9/lib/python/site-packages/urllib3/connectionpool.py:1097: InsecureRequestWarning: Unverified HTTPS request is being made to host 'faq.ssa.gov'. Adding certificate verification is strongly advised. See: https://urllib3.readthedocs.io/en/latest/advanced-usage.html#tls-warnings\n",
      "  warnings.warn(\n",
      " 51%|██████████████████████████████████████████████▋                                            | 58/113 [01:27<01:18,  1.43s/it]/Users/sinanozdemir/Library/Python/3.9/lib/python/site-packages/urllib3/connectionpool.py:1097: InsecureRequestWarning: Unverified HTTPS request is being made to host 'faq.ssa.gov'. Adding certificate verification is strongly advised. See: https://urllib3.readthedocs.io/en/latest/advanced-usage.html#tls-warnings\n",
      "  warnings.warn(\n",
      " 52%|███████████████████████████████████████████████▌                                           | 59/113 [01:29<01:14,  1.37s/it]/Users/sinanozdemir/Library/Python/3.9/lib/python/site-packages/urllib3/connectionpool.py:1097: InsecureRequestWarning: Unverified HTTPS request is being made to host 'faq.ssa.gov'. Adding certificate verification is strongly advised. See: https://urllib3.readthedocs.io/en/latest/advanced-usage.html#tls-warnings\n",
      "  warnings.warn(\n",
      " 53%|████████████████████████████████████████████████▎                                          | 60/113 [01:30<01:11,  1.34s/it]/Users/sinanozdemir/Library/Python/3.9/lib/python/site-packages/urllib3/connectionpool.py:1097: InsecureRequestWarning: Unverified HTTPS request is being made to host 'faq.ssa.gov'. Adding certificate verification is strongly advised. See: https://urllib3.readthedocs.io/en/latest/advanced-usage.html#tls-warnings\n",
      "  warnings.warn(\n",
      " 54%|█████████████████████████████████████████████████                                          | 61/113 [01:31<01:11,  1.38s/it]/Users/sinanozdemir/Library/Python/3.9/lib/python/site-packages/urllib3/connectionpool.py:1097: InsecureRequestWarning: Unverified HTTPS request is being made to host 'faq.ssa.gov'. Adding certificate verification is strongly advised. See: https://urllib3.readthedocs.io/en/latest/advanced-usage.html#tls-warnings\n",
      "  warnings.warn(\n",
      " 55%|█████████████████████████████████████████████████▉                                         | 62/113 [01:33<01:13,  1.44s/it]/Users/sinanozdemir/Library/Python/3.9/lib/python/site-packages/urllib3/connectionpool.py:1097: InsecureRequestWarning: Unverified HTTPS request is being made to host 'faq.ssa.gov'. Adding certificate verification is strongly advised. See: https://urllib3.readthedocs.io/en/latest/advanced-usage.html#tls-warnings\n",
      "  warnings.warn(\n",
      " 56%|██████████████████████████████████████████████████▋                                        | 63/113 [01:35<01:14,  1.48s/it]/Users/sinanozdemir/Library/Python/3.9/lib/python/site-packages/urllib3/connectionpool.py:1097: InsecureRequestWarning: Unverified HTTPS request is being made to host 'faq.ssa.gov'. Adding certificate verification is strongly advised. See: https://urllib3.readthedocs.io/en/latest/advanced-usage.html#tls-warnings\n",
      "  warnings.warn(\n",
      " 57%|███████████████████████████████████████████████████▌                                       | 64/113 [01:36<01:10,  1.44s/it]/Users/sinanozdemir/Library/Python/3.9/lib/python/site-packages/urllib3/connectionpool.py:1097: InsecureRequestWarning: Unverified HTTPS request is being made to host 'faq.ssa.gov'. Adding certificate verification is strongly advised. See: https://urllib3.readthedocs.io/en/latest/advanced-usage.html#tls-warnings\n",
      "  warnings.warn(\n",
      " 58%|████████████████████████████████████████████████████▎                                      | 65/113 [01:37<01:08,  1.43s/it]/Users/sinanozdemir/Library/Python/3.9/lib/python/site-packages/urllib3/connectionpool.py:1097: InsecureRequestWarning: Unverified HTTPS request is being made to host 'faq.ssa.gov'. Adding certificate verification is strongly advised. See: https://urllib3.readthedocs.io/en/latest/advanced-usage.html#tls-warnings\n",
      "  warnings.warn(\n",
      " 58%|█████████████████████████████████████████████████████▏                                     | 66/113 [01:39<01:05,  1.39s/it]/Users/sinanozdemir/Library/Python/3.9/lib/python/site-packages/urllib3/connectionpool.py:1097: InsecureRequestWarning: Unverified HTTPS request is being made to host 'faq.ssa.gov'. Adding certificate verification is strongly advised. See: https://urllib3.readthedocs.io/en/latest/advanced-usage.html#tls-warnings\n",
      "  warnings.warn(\n",
      " 59%|█████████████████████████████████████████████████████▉                                     | 67/113 [01:40<01:04,  1.39s/it]/Users/sinanozdemir/Library/Python/3.9/lib/python/site-packages/urllib3/connectionpool.py:1097: InsecureRequestWarning: Unverified HTTPS request is being made to host 'faq.ssa.gov'. Adding certificate verification is strongly advised. See: https://urllib3.readthedocs.io/en/latest/advanced-usage.html#tls-warnings\n",
      "  warnings.warn(\n",
      " 60%|██████████████████████████████████████████████████████▊                                    | 68/113 [01:42<01:03,  1.41s/it]/Users/sinanozdemir/Library/Python/3.9/lib/python/site-packages/urllib3/connectionpool.py:1097: InsecureRequestWarning: Unverified HTTPS request is being made to host 'faq.ssa.gov'. Adding certificate verification is strongly advised. See: https://urllib3.readthedocs.io/en/latest/advanced-usage.html#tls-warnings\n",
      "  warnings.warn(\n",
      " 61%|███████████████████████████████████████████████████████▌                                   | 69/113 [01:43<01:00,  1.36s/it]/Users/sinanozdemir/Library/Python/3.9/lib/python/site-packages/urllib3/connectionpool.py:1097: InsecureRequestWarning: Unverified HTTPS request is being made to host 'faq.ssa.gov'. Adding certificate verification is strongly advised. See: https://urllib3.readthedocs.io/en/latest/advanced-usage.html#tls-warnings\n",
      "  warnings.warn(\n",
      " 62%|████████████████████████████████████████████████████████▎                                  | 70/113 [01:44<00:57,  1.34s/it]/Users/sinanozdemir/Library/Python/3.9/lib/python/site-packages/urllib3/connectionpool.py:1097: InsecureRequestWarning: Unverified HTTPS request is being made to host 'faq.ssa.gov'. Adding certificate verification is strongly advised. See: https://urllib3.readthedocs.io/en/latest/advanced-usage.html#tls-warnings\n",
      "  warnings.warn(\n",
      " 63%|█████████████████████████████████████████████████████████▏                                 | 71/113 [01:45<00:54,  1.29s/it]/Users/sinanozdemir/Library/Python/3.9/lib/python/site-packages/urllib3/connectionpool.py:1097: InsecureRequestWarning: Unverified HTTPS request is being made to host 'faq.ssa.gov'. Adding certificate verification is strongly advised. See: https://urllib3.readthedocs.io/en/latest/advanced-usage.html#tls-warnings\n",
      "  warnings.warn(\n",
      " 64%|█████████████████████████████████████████████████████████▉                                 | 72/113 [01:47<00:56,  1.38s/it]/Users/sinanozdemir/Library/Python/3.9/lib/python/site-packages/urllib3/connectionpool.py:1097: InsecureRequestWarning: Unverified HTTPS request is being made to host 'faq.ssa.gov'. Adding certificate verification is strongly advised. See: https://urllib3.readthedocs.io/en/latest/advanced-usage.html#tls-warnings\n",
      "  warnings.warn(\n",
      " 65%|██████████████████████████████████████████████████████████▊                                | 73/113 [01:48<00:55,  1.40s/it]/Users/sinanozdemir/Library/Python/3.9/lib/python/site-packages/urllib3/connectionpool.py:1097: InsecureRequestWarning: Unverified HTTPS request is being made to host 'faq.ssa.gov'. Adding certificate verification is strongly advised. See: https://urllib3.readthedocs.io/en/latest/advanced-usage.html#tls-warnings\n",
      "  warnings.warn(\n",
      " 65%|███████████████████████████████████████████████████████████▌                               | 74/113 [01:50<00:55,  1.43s/it]/Users/sinanozdemir/Library/Python/3.9/lib/python/site-packages/urllib3/connectionpool.py:1097: InsecureRequestWarning: Unverified HTTPS request is being made to host 'faq.ssa.gov'. Adding certificate verification is strongly advised. See: https://urllib3.readthedocs.io/en/latest/advanced-usage.html#tls-warnings\n",
      "  warnings.warn(\n",
      " 66%|████████████████████████████████████████████████████████████▍                              | 75/113 [01:51<00:53,  1.41s/it]/Users/sinanozdemir/Library/Python/3.9/lib/python/site-packages/urllib3/connectionpool.py:1097: InsecureRequestWarning: Unverified HTTPS request is being made to host 'faq.ssa.gov'. Adding certificate verification is strongly advised. See: https://urllib3.readthedocs.io/en/latest/advanced-usage.html#tls-warnings\n",
      "  warnings.warn(\n",
      " 67%|█████████████████████████████████████████████████████████████▏                             | 76/113 [01:52<00:49,  1.34s/it]/Users/sinanozdemir/Library/Python/3.9/lib/python/site-packages/urllib3/connectionpool.py:1097: InsecureRequestWarning: Unverified HTTPS request is being made to host 'faq.ssa.gov'. Adding certificate verification is strongly advised. See: https://urllib3.readthedocs.io/en/latest/advanced-usage.html#tls-warnings\n",
      "  warnings.warn(\n",
      " 68%|██████████████████████████████████████████████████████████████                             | 77/113 [01:54<00:49,  1.39s/it]/Users/sinanozdemir/Library/Python/3.9/lib/python/site-packages/urllib3/connectionpool.py:1097: InsecureRequestWarning: Unverified HTTPS request is being made to host 'faq.ssa.gov'. Adding certificate verification is strongly advised. See: https://urllib3.readthedocs.io/en/latest/advanced-usage.html#tls-warnings\n",
      "  warnings.warn(\n",
      " 69%|██████████████████████████████████████████████████████████████▊                            | 78/113 [01:56<00:55,  1.58s/it]/Users/sinanozdemir/Library/Python/3.9/lib/python/site-packages/urllib3/connectionpool.py:1097: InsecureRequestWarning: Unverified HTTPS request is being made to host 'faq.ssa.gov'. Adding certificate verification is strongly advised. See: https://urllib3.readthedocs.io/en/latest/advanced-usage.html#tls-warnings\n",
      "  warnings.warn(\n",
      " 70%|███████████████████████████████████████████████████████████████▌                           | 79/113 [01:57<00:54,  1.60s/it]/Users/sinanozdemir/Library/Python/3.9/lib/python/site-packages/urllib3/connectionpool.py:1097: InsecureRequestWarning: Unverified HTTPS request is being made to host 'faq.ssa.gov'. Adding certificate verification is strongly advised. See: https://urllib3.readthedocs.io/en/latest/advanced-usage.html#tls-warnings\n",
      "  warnings.warn(\n",
      " 71%|████████████████████████████████████████████████████████████████▍                          | 80/113 [01:59<00:52,  1.59s/it]/Users/sinanozdemir/Library/Python/3.9/lib/python/site-packages/urllib3/connectionpool.py:1097: InsecureRequestWarning: Unverified HTTPS request is being made to host 'faq.ssa.gov'. Adding certificate verification is strongly advised. See: https://urllib3.readthedocs.io/en/latest/advanced-usage.html#tls-warnings\n",
      "  warnings.warn(\n",
      " 72%|█████████████████████████████████████████████████████████████████▏                         | 81/113 [02:00<00:48,  1.52s/it]/Users/sinanozdemir/Library/Python/3.9/lib/python/site-packages/urllib3/connectionpool.py:1097: InsecureRequestWarning: Unverified HTTPS request is being made to host 'faq.ssa.gov'. Adding certificate verification is strongly advised. See: https://urllib3.readthedocs.io/en/latest/advanced-usage.html#tls-warnings\n",
      "  warnings.warn(\n",
      " 73%|██████████████████████████████████████████████████████████████████                         | 82/113 [02:02<00:46,  1.51s/it]/Users/sinanozdemir/Library/Python/3.9/lib/python/site-packages/urllib3/connectionpool.py:1097: InsecureRequestWarning: Unverified HTTPS request is being made to host 'faq.ssa.gov'. Adding certificate verification is strongly advised. See: https://urllib3.readthedocs.io/en/latest/advanced-usage.html#tls-warnings\n",
      "  warnings.warn(\n",
      " 73%|██████████████████████████████████████████████████████████████████▊                        | 83/113 [02:03<00:45,  1.52s/it]/Users/sinanozdemir/Library/Python/3.9/lib/python/site-packages/urllib3/connectionpool.py:1097: InsecureRequestWarning: Unverified HTTPS request is being made to host 'faq.ssa.gov'. Adding certificate verification is strongly advised. See: https://urllib3.readthedocs.io/en/latest/advanced-usage.html#tls-warnings\n",
      "  warnings.warn(\n",
      " 74%|███████████████████████████████████████████████████████████████████▋                       | 84/113 [02:05<00:43,  1.48s/it]/Users/sinanozdemir/Library/Python/3.9/lib/python/site-packages/urllib3/connectionpool.py:1097: InsecureRequestWarning: Unverified HTTPS request is being made to host 'faq.ssa.gov'. Adding certificate verification is strongly advised. See: https://urllib3.readthedocs.io/en/latest/advanced-usage.html#tls-warnings\n",
      "  warnings.warn(\n",
      " 75%|████████████████████████████████████████████████████████████████████▍                      | 85/113 [02:06<00:39,  1.42s/it]/Users/sinanozdemir/Library/Python/3.9/lib/python/site-packages/urllib3/connectionpool.py:1097: InsecureRequestWarning: Unverified HTTPS request is being made to host 'faq.ssa.gov'. Adding certificate verification is strongly advised. See: https://urllib3.readthedocs.io/en/latest/advanced-usage.html#tls-warnings\n",
      "  warnings.warn(\n",
      " 76%|█████████████████████████████████████████████████████████████████████▎                     | 86/113 [02:08<00:41,  1.54s/it]/Users/sinanozdemir/Library/Python/3.9/lib/python/site-packages/urllib3/connectionpool.py:1097: InsecureRequestWarning: Unverified HTTPS request is being made to host 'faq.ssa.gov'. Adding certificate verification is strongly advised. See: https://urllib3.readthedocs.io/en/latest/advanced-usage.html#tls-warnings\n",
      "  warnings.warn(\n",
      " 77%|██████████████████████████████████████████████████████████████████████                     | 87/113 [02:09<00:38,  1.47s/it]/Users/sinanozdemir/Library/Python/3.9/lib/python/site-packages/urllib3/connectionpool.py:1097: InsecureRequestWarning: Unverified HTTPS request is being made to host 'faq.ssa.gov'. Adding certificate verification is strongly advised. See: https://urllib3.readthedocs.io/en/latest/advanced-usage.html#tls-warnings\n",
      "  warnings.warn(\n",
      " 78%|██████████████████████████████████████████████████████████████████████▊                    | 88/113 [02:11<00:37,  1.48s/it]/Users/sinanozdemir/Library/Python/3.9/lib/python/site-packages/urllib3/connectionpool.py:1097: InsecureRequestWarning: Unverified HTTPS request is being made to host 'faq.ssa.gov'. Adding certificate verification is strongly advised. See: https://urllib3.readthedocs.io/en/latest/advanced-usage.html#tls-warnings\n",
      "  warnings.warn(\n",
      " 79%|███████████████████████████████████████████████████████████████████████▋                   | 89/113 [02:12<00:35,  1.49s/it]/Users/sinanozdemir/Library/Python/3.9/lib/python/site-packages/urllib3/connectionpool.py:1097: InsecureRequestWarning: Unverified HTTPS request is being made to host 'faq.ssa.gov'. Adding certificate verification is strongly advised. See: https://urllib3.readthedocs.io/en/latest/advanced-usage.html#tls-warnings\n",
      "  warnings.warn(\n",
      " 80%|████████████████████████████████████████████████████████████████████████▍                  | 90/113 [02:14<00:34,  1.50s/it]/Users/sinanozdemir/Library/Python/3.9/lib/python/site-packages/urllib3/connectionpool.py:1097: InsecureRequestWarning: Unverified HTTPS request is being made to host 'faq.ssa.gov'. Adding certificate verification is strongly advised. See: https://urllib3.readthedocs.io/en/latest/advanced-usage.html#tls-warnings\n",
      "  warnings.warn(\n",
      " 81%|█████████████████████████████████████████████████████████████████████████▎                 | 91/113 [02:15<00:33,  1.51s/it]/Users/sinanozdemir/Library/Python/3.9/lib/python/site-packages/urllib3/connectionpool.py:1097: InsecureRequestWarning: Unverified HTTPS request is being made to host 'faq.ssa.gov'. Adding certificate verification is strongly advised. See: https://urllib3.readthedocs.io/en/latest/advanced-usage.html#tls-warnings\n",
      "  warnings.warn(\n",
      " 81%|██████████████████████████████████████████████████████████████████████████                 | 92/113 [02:17<00:29,  1.42s/it]/Users/sinanozdemir/Library/Python/3.9/lib/python/site-packages/urllib3/connectionpool.py:1097: InsecureRequestWarning: Unverified HTTPS request is being made to host 'faq.ssa.gov'. Adding certificate verification is strongly advised. See: https://urllib3.readthedocs.io/en/latest/advanced-usage.html#tls-warnings\n",
      "  warnings.warn(\n",
      " 82%|██████████████████████████████████████████████████████████████████████████▉                | 93/113 [02:18<00:28,  1.43s/it]/Users/sinanozdemir/Library/Python/3.9/lib/python/site-packages/urllib3/connectionpool.py:1097: InsecureRequestWarning: Unverified HTTPS request is being made to host 'faq.ssa.gov'. Adding certificate verification is strongly advised. See: https://urllib3.readthedocs.io/en/latest/advanced-usage.html#tls-warnings\n",
      "  warnings.warn(\n",
      " 83%|███████████████████████████████████████████████████████████████████████████▋               | 94/113 [02:20<00:28,  1.49s/it]/Users/sinanozdemir/Library/Python/3.9/lib/python/site-packages/urllib3/connectionpool.py:1097: InsecureRequestWarning: Unverified HTTPS request is being made to host 'faq.ssa.gov'. Adding certificate verification is strongly advised. See: https://urllib3.readthedocs.io/en/latest/advanced-usage.html#tls-warnings\n",
      "  warnings.warn(\n",
      " 84%|████████████████████████████████████████████████████████████████████████████▌              | 95/113 [02:21<00:26,  1.47s/it]/Users/sinanozdemir/Library/Python/3.9/lib/python/site-packages/urllib3/connectionpool.py:1097: InsecureRequestWarning: Unverified HTTPS request is being made to host 'faq.ssa.gov'. Adding certificate verification is strongly advised. See: https://urllib3.readthedocs.io/en/latest/advanced-usage.html#tls-warnings\n",
      "  warnings.warn(\n",
      " 85%|█████████████████████████████████████████████████████████████████████████████▎             | 96/113 [02:22<00:23,  1.40s/it]/Users/sinanozdemir/Library/Python/3.9/lib/python/site-packages/urllib3/connectionpool.py:1097: InsecureRequestWarning: Unverified HTTPS request is being made to host 'faq.ssa.gov'. Adding certificate verification is strongly advised. See: https://urllib3.readthedocs.io/en/latest/advanced-usage.html#tls-warnings\n",
      "  warnings.warn(\n",
      " 86%|██████████████████████████████████████████████████████████████████████████████             | 97/113 [02:24<00:21,  1.36s/it]/Users/sinanozdemir/Library/Python/3.9/lib/python/site-packages/urllib3/connectionpool.py:1097: InsecureRequestWarning: Unverified HTTPS request is being made to host 'faq.ssa.gov'. Adding certificate verification is strongly advised. See: https://urllib3.readthedocs.io/en/latest/advanced-usage.html#tls-warnings\n",
      "  warnings.warn(\n",
      " 87%|██████████████████████████████████████████████████████████████████████████████▉            | 98/113 [02:25<00:20,  1.37s/it]/Users/sinanozdemir/Library/Python/3.9/lib/python/site-packages/urllib3/connectionpool.py:1097: InsecureRequestWarning: Unverified HTTPS request is being made to host 'faq.ssa.gov'. Adding certificate verification is strongly advised. See: https://urllib3.readthedocs.io/en/latest/advanced-usage.html#tls-warnings\n",
      "  warnings.warn(\n",
      " 88%|███████████████████████████████████████████████████████████████████████████████▋           | 99/113 [02:26<00:19,  1.42s/it]/Users/sinanozdemir/Library/Python/3.9/lib/python/site-packages/urllib3/connectionpool.py:1097: InsecureRequestWarning: Unverified HTTPS request is being made to host 'faq.ssa.gov'. Adding certificate verification is strongly advised. See: https://urllib3.readthedocs.io/en/latest/advanced-usage.html#tls-warnings\n",
      "  warnings.warn(\n",
      " 88%|███████████████████████████████████████████████████████████████████████████████▋          | 100/113 [02:28<00:18,  1.43s/it]/Users/sinanozdemir/Library/Python/3.9/lib/python/site-packages/urllib3/connectionpool.py:1097: InsecureRequestWarning: Unverified HTTPS request is being made to host 'faq.ssa.gov'. Adding certificate verification is strongly advised. See: https://urllib3.readthedocs.io/en/latest/advanced-usage.html#tls-warnings\n",
      "  warnings.warn(\n",
      " 89%|████████████████████████████████████████████████████████████████████████████████▍         | 101/113 [02:29<00:16,  1.39s/it]/Users/sinanozdemir/Library/Python/3.9/lib/python/site-packages/urllib3/connectionpool.py:1097: InsecureRequestWarning: Unverified HTTPS request is being made to host 'faq.ssa.gov'. Adding certificate verification is strongly advised. See: https://urllib3.readthedocs.io/en/latest/advanced-usage.html#tls-warnings\n",
      "  warnings.warn(\n",
      " 90%|█████████████████████████████████████████████████████████████████████████████████▏        | 102/113 [02:31<00:15,  1.42s/it]/Users/sinanozdemir/Library/Python/3.9/lib/python/site-packages/urllib3/connectionpool.py:1097: InsecureRequestWarning: Unverified HTTPS request is being made to host 'faq.ssa.gov'. Adding certificate verification is strongly advised. See: https://urllib3.readthedocs.io/en/latest/advanced-usage.html#tls-warnings\n",
      "  warnings.warn(\n",
      " 91%|██████████████████████████████████████████████████████████████████████████████████        | 103/113 [02:32<00:14,  1.40s/it]/Users/sinanozdemir/Library/Python/3.9/lib/python/site-packages/urllib3/connectionpool.py:1097: InsecureRequestWarning: Unverified HTTPS request is being made to host 'faq.ssa.gov'. Adding certificate verification is strongly advised. See: https://urllib3.readthedocs.io/en/latest/advanced-usage.html#tls-warnings\n",
      "  warnings.warn(\n",
      " 92%|██████████████████████████████████████████████████████████████████████████████████▊       | 104/113 [02:33<00:12,  1.39s/it]/Users/sinanozdemir/Library/Python/3.9/lib/python/site-packages/urllib3/connectionpool.py:1097: InsecureRequestWarning: Unverified HTTPS request is being made to host 'faq.ssa.gov'. Adding certificate verification is strongly advised. See: https://urllib3.readthedocs.io/en/latest/advanced-usage.html#tls-warnings\n",
      "  warnings.warn(\n",
      " 93%|███████████████████████████████████████████████████████████████████████████████████▋      | 105/113 [02:35<00:11,  1.38s/it]/Users/sinanozdemir/Library/Python/3.9/lib/python/site-packages/urllib3/connectionpool.py:1097: InsecureRequestWarning: Unverified HTTPS request is being made to host 'faq.ssa.gov'. Adding certificate verification is strongly advised. See: https://urllib3.readthedocs.io/en/latest/advanced-usage.html#tls-warnings\n",
      "  warnings.warn(\n",
      " 94%|████████████████████████████████████████████████████████████████████████████████████▍     | 106/113 [02:37<00:10,  1.51s/it]/Users/sinanozdemir/Library/Python/3.9/lib/python/site-packages/urllib3/connectionpool.py:1097: InsecureRequestWarning: Unverified HTTPS request is being made to host 'faq.ssa.gov'. Adding certificate verification is strongly advised. See: https://urllib3.readthedocs.io/en/latest/advanced-usage.html#tls-warnings\n",
      "  warnings.warn(\n",
      " 95%|█████████████████████████████████████████████████████████████████████████████████████▏    | 107/113 [02:38<00:09,  1.55s/it]/Users/sinanozdemir/Library/Python/3.9/lib/python/site-packages/urllib3/connectionpool.py:1097: InsecureRequestWarning: Unverified HTTPS request is being made to host 'faq.ssa.gov'. Adding certificate verification is strongly advised. See: https://urllib3.readthedocs.io/en/latest/advanced-usage.html#tls-warnings\n",
      "  warnings.warn(\n",
      " 96%|██████████████████████████████████████████████████████████████████████████████████████    | 108/113 [02:39<00:07,  1.41s/it]/Users/sinanozdemir/Library/Python/3.9/lib/python/site-packages/urllib3/connectionpool.py:1097: InsecureRequestWarning: Unverified HTTPS request is being made to host 'faq.ssa.gov'. Adding certificate verification is strongly advised. See: https://urllib3.readthedocs.io/en/latest/advanced-usage.html#tls-warnings\n",
      "  warnings.warn(\n",
      " 96%|██████████████████████████████████████████████████████████████████████████████████████▊   | 109/113 [02:41<00:05,  1.37s/it]/Users/sinanozdemir/Library/Python/3.9/lib/python/site-packages/urllib3/connectionpool.py:1097: InsecureRequestWarning: Unverified HTTPS request is being made to host 'faq.ssa.gov'. Adding certificate verification is strongly advised. See: https://urllib3.readthedocs.io/en/latest/advanced-usage.html#tls-warnings\n",
      "  warnings.warn(\n",
      " 97%|███████████████████████████████████████████████████████████████████████████████████████▌  | 110/113 [02:42<00:04,  1.38s/it]/Users/sinanozdemir/Library/Python/3.9/lib/python/site-packages/urllib3/connectionpool.py:1097: InsecureRequestWarning: Unverified HTTPS request is being made to host 'faq.ssa.gov'. Adding certificate verification is strongly advised. See: https://urllib3.readthedocs.io/en/latest/advanced-usage.html#tls-warnings\n",
      "  warnings.warn(\n",
      " 98%|████████████████████████████████████████████████████████████████████████████████████████▍ | 111/113 [02:43<00:02,  1.38s/it]/Users/sinanozdemir/Library/Python/3.9/lib/python/site-packages/urllib3/connectionpool.py:1097: InsecureRequestWarning: Unverified HTTPS request is being made to host 'faq.ssa.gov'. Adding certificate verification is strongly advised. See: https://urllib3.readthedocs.io/en/latest/advanced-usage.html#tls-warnings\n",
      "  warnings.warn(\n",
      " 99%|█████████████████████████████████████████████████████████████████████████████████████████▏| 112/113 [02:45<00:01,  1.42s/it]/Users/sinanozdemir/Library/Python/3.9/lib/python/site-packages/urllib3/connectionpool.py:1097: InsecureRequestWarning: Unverified HTTPS request is being made to host 'faq.ssa.gov'. Adding certificate verification is strongly advised. See: https://urllib3.readthedocs.io/en/latest/advanced-usage.html#tls-warnings\n",
      "  warnings.warn(\n",
      "100%|██████████████████████████████████████████████████████████████████████████████████████████| 113/113 [02:46<00:00,  1.48s/it]\n"
     ]
    }
   ],
   "source": [
    "dirty_government_docs = []\n",
    "for url in tqdm(urls):\n",
    "    r = requests.get(url, verify=False)\n",
    "    soup = BeautifulSoup(r.content, 'html.parser')\n",
    "    dirty_government_docs.append((soup.find('body').get_text(), url))"
   ]
  },
  {
   "cell_type": "code",
   "execution_count": 76,
   "id": "a304bec1-2fff-4d82-81ed-bb3147d30b5c",
   "metadata": {},
   "outputs": [],
   "source": [
    "def clean_string(text):  # courtesy of Claude 3.5 Sonnet\n",
    "    # Remove extra whitespace, including newlines\n",
    "    text = re.sub(r'\\s+', ' ', text)\n",
    "    # Remove any leading/trailing whitespace\n",
    "    text = text.strip()\n",
    "    # Remove common filler phrases\n",
    "    filler_phrases = [\n",
    "        \"Skip to content\", \"Skip to main content\", \"Menu\", \"Sign in\", \"Print\", \"Views:\", \"Comments \\(0\\)\",\n",
    "        \"Footer menu\", \"Give us Feedback.\", \"Did this answer your question?\", \"No Yes No\", \"Thanks for your feedback.\"\n",
    "    ]\n",
    "    for phrase in filler_phrases:\n",
    "        text = re.sub(phrase, '', text, flags=re.IGNORECASE)\n",
    "    # Remove any remaining brackets and their contents\n",
    "    text = re.sub(r'\\[.*?\\]', '', text)\n",
    "    # Remove any remaining parentheses and their contents\n",
    "    text = re.sub(r'\\(.*?\\)', '', text)\n",
    "    # Remove any URLs\n",
    "    text = re.sub(r'http\\S+', '', text)\n",
    "    # Remove any remaining special characters\n",
    "    text = re.sub(r'[^\\w\\s\\.\\,\\?\\!]', '', text)\n",
    "    # Remove extra spaces that may have been created\n",
    "    text = re.sub(r'\\s+', ' ', text).strip()\n",
    "\n",
    "    text = text.split('FAQ Home Topics')[-1]\n",
    "    text = text.split('More Information')[0]\n",
    "    text = text.split('Footer ?')[0]\n",
    "\n",
    "    text = text.strip()\n",
    "    return text"
   ]
  },
  {
   "cell_type": "code",
   "execution_count": 77,
   "id": "c5dd8a46-7a60-4928-8b76-d4dfefe7ce09",
   "metadata": {},
   "outputs": [],
   "source": [
    "government_docs = []\n",
    "for body, url in dirty_government_docs:\n",
    "    government_docs.append(dict(text=clean_string(body), url=url))"
   ]
  },
  {
   "cell_type": "code",
   "execution_count": 78,
   "id": "6e1cbf70-3eef-4dc5-a337-740cfcb007ee",
   "metadata": {},
   "outputs": [
    {
     "data": {
      "text/plain": [
       "{'text': 'KA01759 How do I file W2s, W2Cs, and W3s for my employees? Employers and third parties can easily file wage reports with us electronically or by paper . The Internal Revenue Service has issued final regulations that reduce the electronic filing threshold from 250 W2s to 10 informational returns, effective January 2024. If you file 10 or more informational returns , you must file electronically unless the IRS grants a waiver or exemption. There are three ways to file electronically Use our free product, W2 Online, which allows you to file W2s and W2Cs right from our Business Services Online webpage. Use software that produces W2 forms in the Electronic Filing W2 format and upload your file on our BSO webpage. Use a commercial software product that allows you to file W2s electronically with us using the software. Note You also have the option for a third party to prepare the W2s and file them electronically with us. The third party normally charges a fee.',\n",
       " 'url': 'http://faq.ssa.gov/en-us/topic/article/ka-01759'}"
      ]
     },
     "execution_count": 78,
     "metadata": {},
     "output_type": "execute_result"
    }
   ],
   "source": [
    "government_docs[0]"
   ]
  },
  {
   "cell_type": "code",
   "execution_count": 79,
   "id": "f6578099-32f7-477a-bf2d-1b3c625540d8",
   "metadata": {},
   "outputs": [
    {
     "data": {
      "text/plain": [
       "{'text': 'KA02154 Will my Medicare premiums be higher because of my higher income? Some people with higher income may pay a larger percentage of their monthly Medicare Part B and prescription drug costs based on their income. We call the additional amount the incomerelated monthly adjustment amount. Visit Medicare Premiums Rules For HigherIncome Beneficiaries to see if the adjustment amount applies to you.',\n",
       " 'url': 'http://faq.ssa.gov/en-us/topic/article/ka-02154'}"
      ]
     },
     "execution_count": 79,
     "metadata": {},
     "output_type": "execute_result"
    }
   ],
   "source": [
    "government_docs[-1]"
   ]
  },
  {
   "cell_type": "code",
   "execution_count": 80,
   "id": "546b96b0-feda-4b39-83dc-c1794f395b41",
   "metadata": {},
   "outputs": [
    {
     "data": {
      "text/plain": [
       "{}"
      ]
     },
     "execution_count": 80,
     "metadata": {},
     "output_type": "execute_result"
    }
   ],
   "source": [
    "index.delete(delete_all=True, namespace=NAMESPACE) # TO delete all vectors, be careful!"
   ]
  },
  {
   "cell_type": "code",
   "execution_count": 81,
   "id": "0221343a",
   "metadata": {
    "colab": {
     "base_uri": "https://localhost:8080/"
    },
    "id": "0221343a",
    "outputId": "72953aba-424b-4756-ea73-f5592ae7d7dd"
   },
   "outputs": [
    {
     "name": "stderr",
     "output_type": "stream",
     "text": [
      "100%|██████████████████████████████████████████████████████████████████████████████████████████████| 4/4 [00:05<00:00,  1.30s/it]\n"
     ]
    },
    {
     "data": {
      "text/plain": [
       "113"
      ]
     },
     "execution_count": 81,
     "metadata": {},
     "output_type": "execute_result"
    }
   ],
   "source": [
    "BATCH_SIZE = 32\n",
    "upload_texts_to_pinecone(\n",
    "    texts=[g['text'] for g in government_docs],\n",
    "    batch_size=BATCH_SIZE, show_progress_bar=True, \n",
    "    urls=[g['url'] for g in government_docs]\n",
    ")"
   ]
  },
  {
   "cell_type": "code",
   "execution_count": 82,
   "id": "33yf7QrWtwt-",
   "metadata": {
    "colab": {
     "base_uri": "https://localhost:8080/"
    },
    "id": "33yf7QrWtwt-",
    "outputId": "5ec56246-4d35-44bb-b958-00117ca150ee"
   },
   "outputs": [
    {
     "data": {
      "text/plain": [
       "{'dimension': 1536,\n",
       " 'index_fullness': 0.0,\n",
       " 'namespaces': {},\n",
       " 'total_vector_count': 0}"
      ]
     },
     "execution_count": 82,
     "metadata": {},
     "output_type": "execute_result"
    }
   ],
   "source": [
    "index.describe_index_stats()"
   ]
  },
  {
   "cell_type": "code",
   "execution_count": 83,
   "id": "6da29a50-4ec0-4292-a99a-11d2eafb6954",
   "metadata": {},
   "outputs": [
    {
     "name": "stdout",
     "output_type": "stream",
     "text": [
      "http://faq.ssa.gov/en-us/topic/article/ka-02713 0.438835174 rmation, go to the How to drop Part A Part B page.\n",
      "http://faq.ssa.gov/en-us/topic/article/ka-02017 0.484854728 er card? How do I get a replacement Medicare card?\n",
      "http://faq.ssa.gov/en-us/topic/article/ka-02244 0.462783843 Income, contact your local Social Security office.\n",
      "http://faq.ssa.gov/en-us/topic/article/ka-02131 0.454951346 more information go to our Medicare Benefits page.\n",
      "http://faq.ssa.gov/en-us/topic/article/ka-01735 0.685358107 o order a replacement card to be sent in the mail.\n",
      "http://faq.ssa.gov/en-us/topic/article/ka-02125 0.449957877 or more information read our Medicare publication.\n",
      "http://faq.ssa.gov/en-us/topic/article/ka-02989 0.434897482 elpfulWhat are Medicare late enrollment penalties?\n",
      "http://faq.ssa.gov/en-us/topic/article/ka-02137 0.430703193 nts and help you apply. For more information see .\n",
      "http://faq.ssa.gov/en-us/topic/article/ka-02113 0.429694235 rug coverage helps pay for prescribed medications.\n",
      "http://faq.ssa.gov/en-us/topic/article/ka-02639 0.428406745 and Human Services OIG or by phone at 18004478744.\n"
     ]
    }
   ],
   "source": [
    "query = 'I lost my medicare card'\n",
    "\n",
    "results = query_from_pinecone(query, top_k=10)\n",
    "for result in results:\n",
    "    print(result['metadata']['url'], result['score'], result['metadata']['text'][-50:])"
   ]
  },
  {
   "cell_type": "code",
   "execution_count": 84,
   "id": "ecc4fb50-1d64-43a2-ab05-ee2184aa9040",
   "metadata": {},
   "outputs": [
    {
     "data": {
      "text/plain": [
       "{'id': '0acc5a5480436f5c668dd7bacc739283',\n",
       " 'metadata': {'date_uploaded': '2025-10-21T16:26:40.763960+00:00',\n",
       "              'text': 'KA02713 How do I terminate my Medicare Part B ? You can '\n",
       "                      'voluntarily terminate your Medicare Part B . However, '\n",
       "                      'you may need to have a personal interview with us to '\n",
       "                      'review the risks of dropping coverage and for '\n",
       "                      'assistance with your request. To find out more about '\n",
       "                      'how to terminate Medicare Part B or to schedule a '\n",
       "                      'personal interview, contact us at 18007721213 or visit '\n",
       "                      'your nearest Social Security office. If you send us a '\n",
       "                      'request to terminate your Part B and then change your '\n",
       "                      'mind, you must send a request to cancel the request of '\n",
       "                      'termination before the date that Part B ends. For '\n",
       "                      'additional information, go to the How to drop Part A '\n",
       "                      'Part B page.',\n",
       "              'url': 'http://faq.ssa.gov/en-us/topic/article/ka-02713'},\n",
       " 'score': 0.438835174,\n",
       " 'values': []}"
      ]
     },
     "execution_count": 84,
     "metadata": {},
     "output_type": "execute_result"
    }
   ],
   "source": [
    "results[0]"
   ]
  },
  {
   "cell_type": "markdown",
   "id": "8b826dee-5847-4d18-83dd-69eaa27f7016",
   "metadata": {},
   "source": [
    "# Using Open Source Embedders"
   ]
  },
  {
   "cell_type": "code",
   "execution_count": 85,
   "id": "84ecc06c-7514-4785-ad00-13c537141470",
   "metadata": {},
   "outputs": [
    {
     "name": "stderr",
     "output_type": "stream",
     "text": [
      "/Users/sinanozdemir/Library/Python/3.9/lib/python/site-packages/transformers/tokenization_utils_base.py:1601: FutureWarning: `clean_up_tokenization_spaces` was not set. It will be set to `True` by default. This behavior will be depracted in transformers v4.45, and will be then set to `False` by default. For more details check this issue: https://github.com/huggingface/transformers/issues/31884\n",
      "  warnings.warn(\n"
     ]
    },
    {
     "data": {
      "text/plain": [
       "(3, 384)"
      ]
     },
     "execution_count": 85,
     "metadata": {},
     "output_type": "execute_result"
    }
   ],
   "source": [
    "from sentence_transformers import SentenceTransformer, util\n",
    "\n",
    "open_source_embedder = SentenceTransformer('all-MiniLM-L6-v2')\n",
    "\n",
    "open_source_embedder.encode(['hi', 'hello', 'sup']).shape\n",
    "\n",
    "# It's that easy! The hard part is evaluating them :)"
   ]
  },
  {
   "cell_type": "code",
   "execution_count": 86,
   "id": "0e494432-6128-4d88-b3fe-ceea46752045",
   "metadata": {},
   "outputs": [
    {
     "data": {
      "text/plain": [
       "SentenceTransformer(\n",
       "  (0): Transformer({'max_seq_length': 256, 'do_lower_case': False}) with Transformer model: BertModel \n",
       "  (1): Pooling({'word_embedding_dimension': 384, 'pooling_mode_cls_token': False, 'pooling_mode_mean_tokens': True, 'pooling_mode_max_tokens': False, 'pooling_mode_mean_sqrt_len_tokens': False, 'pooling_mode_weightedmean_tokens': False, 'pooling_mode_lasttoken': False, 'include_prompt': True})\n",
       "  (2): Normalize()\n",
       ")"
      ]
     },
     "execution_count": 86,
     "metadata": {},
     "output_type": "execute_result"
    }
   ],
   "source": [
    "open_source_embedder"
   ]
  },
  {
   "cell_type": "markdown",
   "id": "1f3afe98-971c-4601-af23-e0aa848fc3c1",
   "metadata": {},
   "source": [
    "# Synthetic Test Data Generation"
   ]
  },
  {
   "cell_type": "code",
   "execution_count": 92,
   "id": "248503c6-3826-4742-8c54-d68f744afff7",
   "metadata": {},
   "outputs": [],
   "source": [
    "# pip install langchain langchain-openai pydantic\n",
    "import os\n",
    "from typing import List, Literal\n",
    "from pydantic import BaseModel, Field\n",
    "\n",
    "from langchain_openai import ChatOpenAI\n",
    "from langchain.prompts import ChatPromptTemplate\n",
    "\n",
    "# ---- Structured schema ----\n",
    "class SyntheticQuestions(BaseModel):\n",
    "    \"\"\"Ten user questions derived strictly from the provided document text.\"\"\"\n",
    "    english_questions: List[str] = Field(\n",
    "        ...,\n",
    "        description=(\n",
    "            \"Exactly 5 English questions\"\n",
    "        ),\n",
    "    )\n",
    "    spanish_questions: List[str] = Field(\n",
    "        ...,\n",
    "        description=(\n",
    "            \"Exactly 2 Spanish questions\"\n",
    "        ),\n",
    "    )\n",
    "    chinese_questions: List[str] = Field(\n",
    "        ...,\n",
    "        description=(\n",
    "            \"Exactly 2 Chinese questions\"\n",
    "        ),\n",
    "    )\n",
    "    french_questions: List[str] = Field(\n",
    "        ...,\n",
    "        description=(\n",
    "            \"Exactly 2 French questions\"\n",
    "        ),\n",
    "    )\n",
    "# ---- LLM & prompt ----\n",
    "llm = ChatOpenAI(model=\"gpt-4.1-mini\", temperature=1.0)\n",
    "\n",
    "prompt = ChatPromptTemplate.from_messages([\n",
    "    (\"system\",\n",
    "     \"You are generating fair user questions that can be \"\n",
    "     \"answered strictly from the provided document. Do not add external facts.\"\n",
    "     \"Everything must be answerable using the document below\"),\n",
    "    (\"human\",\n",
    "     \"I am designing a chatbot that uses the document below.\\n\\n\"\n",
    "     \"Please write 10 distinct questions an average (non-expert) user might ask that \"\n",
    "     \"can DEFINITELY be answered using only this document. Make them a bit \"\n",
    "     \"confusing (but fair) to stress-test retrieval.\\n\\n\"\n",
    "     \"Language REQUIREMENTS (exactly 10):\\n\"\n",
    "     \"1–5: English\\n6–7: Spanish\\n8–9: Chinese\\n10: French\\n\\n\"\n",
    "     \"Return ONLY structured JSON matching the schema, no extra commentary.\\n\\n\"\n",
    "     \"Document:\\n{document}\")\n",
    "])\n",
    "\n",
    "structured_llm = llm.with_structured_output(SyntheticQuestions)\n",
    "chain = prompt | structured_llm\n"
   ]
  },
  {
   "cell_type": "code",
   "execution_count": 93,
   "id": "188b9115-ecc9-4d5c-9a9e-c442a28ce385",
   "metadata": {},
   "outputs": [
    {
     "name": "stdout",
     "output_type": "stream",
     "text": [
      "{\n",
      "  \"english_questions\": [\n",
      "    \"What is the new electronic filing threshold for W2s starting in January 2024?\",\n",
      "    \"Can a third party file my employees' W2s electronically without me filing them myself?\",\n",
      "    \"What options are available to file W2s electronically through the IRS?\",\n",
      "    \"Is it possible to file W2s on paper if I have fewer than 10 informational returns?\",\n",
      "    \"What happens if I file 10 or more informational returns but do not file electronically or get a waiver?\"\n",
      "  ],\n",
      "  \"spanish_questions\": [\n",
      "    \"¿Cuándo entran en vigor las nuevas regulaciones para presentar electrónicamente W2 y W3?\",\n",
      "    \"¿Puedo usar un software comercial para presentar electrónicamente los formularios W2?\"\n",
      "  ],\n",
      "  \"chinese_questions\": [\n",
      "    \"如果我有10个或更多的W2信息申报表，我必须怎样提交？\",\n",
      "    \"是否可以用IRS提供的免费产品在线提交W2和W2C表格？\"\n",
      "  ],\n",
      "  \"french_questions\": [\n",
      "    \"Quels sont les moyens de déposer les formulaires W2 électroniquement selon la réglementation ?\"\n",
      "  ]\n",
      "}\n"
     ]
    }
   ],
   "source": [
    "# government_docs is your existing list; we mirror your original index [1]\n",
    "result: SyntheticQuestions = chain.invoke({\n",
    "    \"document\": government_docs[0][\"text\"]\n",
    "})\n",
    "\n",
    "print(result.model_dump_json(indent=2))"
   ]
  },
  {
   "cell_type": "code",
   "execution_count": 94,
   "id": "4f42896b-f85f-42e6-93e1-e3d5421e89ea",
   "metadata": {},
   "outputs": [
    {
     "name": "stderr",
     "output_type": "stream",
     "text": [
      "100%|████████████████████████████████████████████████████████████████████████████████████████████| 22/22 [01:34<00:00,  4.30s/it]\n"
     ]
    }
   ],
   "source": [
    "synthetic_questions = []\n",
    "from random import sample\n",
    "\n",
    "# generate synthetic test data for a sample  of the urls found\n",
    "SAMPLE = .2\n",
    "for i, government_doc in enumerate(tqdm(sample(government_docs, int(len(government_docs) * SAMPLE)))):\n",
    "        \n",
    "    result = chain.invoke({\"document\": government_doc['text']})\n",
    "    try:\n",
    "        for language in ('english', 'spanish', 'french', 'chinese'):\n",
    "            for question in getattr(result, f'{language}_questions'):\n",
    "                synthetic_questions.append(\n",
    "                dict(\n",
    "                    language=language, \n",
    "                    query=question, \n",
    "                    expected_hash=my_hash(government_doc['text'])\n",
    "                )\n",
    "            )\n",
    "    except Exception as e:\n",
    "        print(f'Could not generate questions for index {i}: {e}')\n",
    "    "
   ]
  },
  {
   "cell_type": "code",
   "execution_count": 95,
   "id": "26687497-ac29-4f10-9ec8-2839093a7fe6",
   "metadata": {},
   "outputs": [
    {
     "data": {
      "text/plain": [
       "263"
      ]
     },
     "execution_count": 95,
     "metadata": {},
     "output_type": "execute_result"
    }
   ],
   "source": [
    "len(synthetic_questions)"
   ]
  },
  {
   "cell_type": "code",
   "execution_count": 96,
   "id": "88fac61f-8928-471d-89b5-a013581a489a",
   "metadata": {},
   "outputs": [
    {
     "data": {
      "text/plain": [
       "{'language': 'english',\n",
       " 'query': 'What determines the monthly premium amount for Medicare Part B?',\n",
       " 'expected_hash': '53bb9b1ef444a2a843933749adc1da86'}"
      ]
     },
     "execution_count": 96,
     "metadata": {},
     "output_type": "execute_result"
    }
   ],
   "source": [
    "synthetic_questions[0]"
   ]
  },
  {
   "cell_type": "code",
   "execution_count": 97,
   "id": "9785cd9f-1389-4c3d-8cf1-6a9ce7728d0d",
   "metadata": {},
   "outputs": [],
   "source": [
    "def test_query(query, expected_hash, language, top_k=10):\n",
    "    results = query_from_pinecone(query, top_k=top_k)\n",
    "    top_result_correct = results[0]['id'] == expected_hash  # accuracy\n",
    "    result_in_pinecone_list = expected_hash in (r['id'] for r in results)  # Recall@top_k (10, etc)\n",
    "    return dict(\n",
    "        result_in_pinecone_list=result_in_pinecone_list, top_result_correct=top_result_correct,\n",
    "        language=language, expected_hash=expected_hash, top_hash=results[0]['id']\n",
    "    )"
   ]
  },
  {
   "cell_type": "code",
   "execution_count": 98,
   "id": "560bae36-c4d0-4b7a-9a63-55d7d2adcefd",
   "metadata": {},
   "outputs": [
    {
     "data": {
      "text/plain": [
       "{'result_in_pinecone_list': True,\n",
       " 'top_result_correct': True,\n",
       " 'language': 'english',\n",
       " 'expected_hash': '53bb9b1ef444a2a843933749adc1da86',\n",
       " 'top_hash': '53bb9b1ef444a2a843933749adc1da86'}"
      ]
     },
     "execution_count": 98,
     "metadata": {},
     "output_type": "execute_result"
    }
   ],
   "source": [
    "test_query(**synthetic_questions[0])"
   ]
  },
  {
   "cell_type": "code",
   "execution_count": 99,
   "id": "4f8d6940-178b-49de-9ea4-ed741aabaa27",
   "metadata": {},
   "outputs": [
    {
     "name": "stderr",
     "output_type": "stream",
     "text": [
      "100%|██████████████████████████████████████████████████████████████████████████████████████████| 263/263 [02:01<00:00,  2.16it/s]\n"
     ]
    }
   ],
   "source": [
    "synthetic_test_results = []\n",
    "for synthetic_question in tqdm(synthetic_questions):\n",
    "    synthetic_test_results.append(test_query(**synthetic_question))"
   ]
  },
  {
   "cell_type": "code",
   "execution_count": 104,
   "id": "6034ec5e-0488-44e7-bcca-670acb45d159",
   "metadata": {},
   "outputs": [
    {
     "name": "stdout",
     "output_type": "stream",
     "text": [
      "result_in_pinecone_list    0.996198\n",
      "top_result_correct         0.847909\n",
      "dtype: float64\n"
     ]
    },
    {
     "data": {
      "image/png": "[encoded data removed]",
      "text/plain": [
       "<Figure size 1200x600 with 1 Axes>"
      ]
     },
     "metadata": {},
     "output_type": "display_data"
    }
   ],
   "source": [
    "import pandas as pd\n",
    "results_df = pd.DataFrame(synthetic_test_results)\n",
    "\n",
    "print(results_df[['result_in_pinecone_list', 'top_result_correct']].mean())\n",
    "\n",
    "import matplotlib.pyplot as plt\n",
    "\n",
    "# Assuming you've already created results_df\n",
    "grouped_data = results_df.groupby('language')[['result_in_pinecone_list', 'top_result_correct']].mean()\n",
    "\n",
    "# Set the style and color palette\n",
    "plt.style.use('fivethirtyeight')\n",
    "# sns.set_palette(\"deep\")\n",
    "\n",
    "# Create the figure and axis\n",
    "fig, ax = plt.subplots(figsize=(12, 6))\n",
    "\n",
    "# Plot the data\n",
    "grouped_data.plot(kind='bar', ax=ax)\n",
    "\n",
    "# Customize the plot\n",
    "ax.set_title('Performance Metrics by Language (OpenAI only)', fontsize=16, pad=20)\n",
    "ax.set_xlabel('Language', fontsize=12)\n",
    "ax.set_ylabel('Mean Score', fontsize=12)\n",
    "ax.tick_params(axis='x', rotation=45)\n",
    "\n",
    "# Add value labels on top of each bar\n",
    "for i in ax.containers:\n",
    "    ax.bar_label(i, fmt='%.2f', padding=3)\n",
    "\n",
    "# Add a legend\n",
    "ax.legend(['Result in Pinecone List', 'Top Result Correct'], title='Metrics', loc='upper left', bbox_to_anchor=(1, 1))\n",
    "\n",
    "# Adjust layout and display the plot\n",
    "plt.tight_layout()\n",
    "plt.show()"
   ]
  },
  {
   "cell_type": "markdown",
   "id": "f1af302f-be9b-4a3f-8072-d59fc7a8dee4",
   "metadata": {},
   "source": [
    "# Making Retrieval Better with [Cohere](cohere.com/rerank)'s Re-Rank\n",
    "\n",
    "\n",
    "\"Rerank provides a powerful semantic boost to the search quality of any keyword or vector search system without requiring any overhaul or replacement.\""
   ]
  },
  {
   "cell_type": "code",
   "execution_count": 105,
   "id": "9d4bdfc9-151e-4f81-900f-fad12ce0d1e1",
   "metadata": {},
   "outputs": [
    {
     "name": "stdout",
     "output_type": "stream",
     "text": [
      "env: COHERE_API_KEY=VdXnvh43Nfhic3EyCkG6ExbjRAGFi2baaIMtkQWC\n"
     ]
    }
   ],
   "source": [
    "%env COHERE_API_KEY=VdXnvh43Nfhic3EyCkG6ExbjRAGFi2baaIMtkQWC\n"
   ]
  },
  {
   "cell_type": "code",
   "execution_count": 106,
   "id": "56ddac29-f170-46e6-b780-b98d1cc9afa1",
   "metadata": {},
   "outputs": [],
   "source": [
    "import cohere\n",
    "\n",
    "co = cohere.Client(os.environ.get('COHERE_API_KEY'))"
   ]
  },
  {
   "cell_type": "code",
   "execution_count": 107,
   "id": "6346cd29-ff4f-4d13-8556-dd5d530491d0",
   "metadata": {},
   "outputs": [
    {
     "data": {
      "text/plain": [
       "'Washington, D.C. (also known as simply Washington or D.C., and officially as the District of Columbia) is the capital of the United States. It is a federal district.'"
      ]
     },
     "execution_count": 107,
     "metadata": {},
     "output_type": "execute_result"
    }
   ],
   "source": [
    "docs = [\n",
    "    \"Carson City is the capital city of the American state of Nevada.\",\n",
    "    \"The Commonwealth of the Northern Mariana Islands is a group of islands in the Pacific Ocean. Its capital is Saipan.\",\n",
    "    \"Capitalization or capitalisation in English grammar is the use of a capital letter at the start of a word. English usage varies from capitalization in other languages.\",\n",
    "    \"Washington, D.C. (also known as simply Washington or D.C., and officially as the District of Columbia) is the capital of the United States. It is a federal district.\",\n",
    "    \"Capital punishment (the death penalty) has existed in the United States since beforethe United States was a country. As of 2017, capital punishment is legal in 30 of the 50 states.\",\n",
    "]\n",
    "\n",
    "response = co.rerank(\n",
    "    model=\"rerank-english-v3.0\",\n",
    "    query=\"What is the capital of the United States?\",\n",
    "    documents=docs,\n",
    "    top_n=1,\n",
    ")\n",
    "\n",
    "docs[response.results[0].index] # re-ranks the docs so that the first one is the most semantically similar"
   ]
  },
  {
   "cell_type": "code",
   "execution_count": 108,
   "id": "9bf07422-d693-42c2-b429-61c44665ebae",
   "metadata": {},
   "outputs": [],
   "source": [
    "def test_query_with_cohere(query, expected_hash, language, top_k=10):\n",
    "        \n",
    "    results = query_from_pinecone(query, top_k=top_k)\n",
    "    result_in_pinecone_list = expected_hash in (r['id'] for r in results)    \n",
    "    docs = [result['metadata']['text'] for result in results]   \n",
    "        \n",
    "    response = co.rerank(\n",
    "        model=\"rerank-multilingual-v3.0\",\n",
    "        query=query,\n",
    "        documents=docs,\n",
    "        top_n=1,\n",
    "    )\n",
    "\n",
    "    top_doc = docs[response.results[0].index]\n",
    "    top_result_correct = my_hash(top_doc) == expected_hash\n",
    "    \n",
    "    return dict(\n",
    "        result_in_pinecone_list=result_in_pinecone_list, top_result_correct=top_result_correct,\n",
    "        language=language, expected_hash=expected_hash, top_hash=results[0]['id']\n",
    "    )"
   ]
  },
  {
   "cell_type": "code",
   "execution_count": 109,
   "id": "bdb42790-26bd-4e77-885e-eb79b2a7b075",
   "metadata": {},
   "outputs": [
    {
     "data": {
      "text/plain": [
       "{'result_in_pinecone_list': True,\n",
       " 'top_result_correct': True,\n",
       " 'language': 'english',\n",
       " 'expected_hash': '53bb9b1ef444a2a843933749adc1da86',\n",
       " 'top_hash': '53bb9b1ef444a2a843933749adc1da86'}"
      ]
     },
     "execution_count": 109,
     "metadata": {},
     "output_type": "execute_result"
    }
   ],
   "source": [
    "test_query_with_cohere(**synthetic_questions[0])"
   ]
  },
  {
   "cell_type": "code",
   "execution_count": 110,
   "id": "c50e16bf-44aa-4d96-a255-49df62708c69",
   "metadata": {},
   "outputs": [
    {
     "name": "stderr",
     "output_type": "stream",
     "text": [
      "100%|██████████████████████████████████████████████████████████████████████████████████████████| 263/263 [03:06<00:00,  1.41it/s]\n"
     ]
    }
   ],
   "source": [
    "synthetic_test_results_cohere = []\n",
    "for synthetic_question in tqdm(synthetic_questions):\n",
    "    synthetic_test_results_cohere.append(test_query_with_cohere(**synthetic_question))"
   ]
  },
  {
   "cell_type": "code",
   "execution_count": 114,
   "id": "94f844cb-832f-4680-9a09-78388cfe8935",
   "metadata": {},
   "outputs": [
    {
     "data": {
      "image/png": "[encoded data removed]",
      "text/plain": [
       "<Figure size 800x500 with 1 Axes>"
      ]
     },
     "metadata": {},
     "output_type": "display_data"
    }
   ],
   "source": [
    "import matplotlib.pyplot as plt\n",
    "\n",
    "# Data\n",
    "data = {\n",
    "    'OpenAI + Cohere': pd.Series([s['top_result_correct'] for s in synthetic_test_results_cohere]).mean() * 100,\n",
    "    'OpenAI Only': pd.Series([s['top_result_correct'] for s in synthetic_test_results]).mean() * 100\n",
    "}\n",
    "\n",
    "percent_change = round((data['OpenAI + Cohere'] - data['OpenAI Only']) / data['OpenAI Only'] * 100, 2)\n",
    "\n",
    "# Set the style and color palette\n",
    "plt.style.use('fivethirtyeight')\n",
    "\n",
    "# Create the figure and axis\n",
    "fig, ax = plt.subplots(figsize=(8, 5))  # Reduced from (10, 6)\n",
    "\n",
    "# Plot the data\n",
    "bars = ax.bar(data.keys(), data.values())\n",
    "\n",
    "# Customize the plot\n",
    "ax.set_title(\n",
    "    f'{base_url.split(\"//\")[-1]} RAG Results ({percent_change}% {\"better\" if percent_change > 0 else \"worse\"} w/ Cohere)', \n",
    "    fontsize=16, pad=4)\n",
    "ax.set_ylabel('Top Result Accuracy (%)', fontsize=12)\n",
    "ax.tick_params(axis='x')\n",
    "\n",
    "# Add value labels on top of each bar\n",
    "ax.bar_label(bars, fmt='%.2f', padding=3)\n",
    "\n",
    "# Adjust y-axis to start from 0.7 for better visualization of differences\n",
    "ax.set_ylim(min(data.values()) - 20, max(data.values()) + 2)\n",
    "\n",
    "# Add a grid for better readability\n",
    "ax.grid(axis='y', linestyle='--', alpha=0.7)\n",
    "\n",
    "# Adjust layout and display the plot\n",
    "plt.tight_layout()\n",
    "plt.show()"
   ]
  },
  {
   "cell_type": "code",
   "execution_count": 123,
   "id": "ed865b2a-edf2-4b42-9928-5966afd98e6e",
   "metadata": {},
   "outputs": [
    {
     "data": {
      "text/plain": [
       "{'result_in_pinecone_list': True,\n",
       " 'top_result_correct': True,\n",
       " 'language': 'english',\n",
       " 'expected_hash': '53bb9b1ef444a2a843933749adc1da86',\n",
       " 'top_hash': '53bb9b1ef444a2a843933749adc1da86'}"
      ]
     },
     "execution_count": 123,
     "metadata": {},
     "output_type": "execute_result"
    }
   ],
   "source": [
    "synthetic_test_results[0]"
   ]
  },
  {
   "cell_type": "code",
   "execution_count": 127,
   "id": "d187941c-44d1-40ef-9893-5d41c1ca46a9",
   "metadata": {},
   "outputs": [
    {
     "data": {
      "image/png": "[encoded data removed]",
      "text/plain": [
       "<Figure size 1200x600 with 1 Axes>"
      ]
     },
     "metadata": {},
     "output_type": "display_data"
    }
   ],
   "source": [
    "import pandas as pd\n",
    "results_df = pd.DataFrame({\n",
    "    'language': [_['language'] for _ in synthetic_test_results],\n",
    "    'OpenAI Recall@1': [_['top_result_correct'] for _ in synthetic_test_results],\n",
    "    'OpenAI + Cohere Recall@1': [_['top_result_correct'] for _ in synthetic_test_results_cohere]\n",
    "})\n",
    "# print(results_df[['result_in_pinecone_list', 'top_result_correct']].mean())\n",
    "\n",
    "grouped_data = results_df.groupby('language').mean()\n",
    "\n",
    "# Set the style and color palette\n",
    "plt.style.use('fivethirtyeight')\n",
    "\n",
    "# Create the figure and axis\n",
    "fig, ax = plt.subplots(figsize=(12, 6))\n",
    "\n",
    "# Plot the data\n",
    "grouped_data.plot(kind='bar', ax=ax)\n",
    "\n",
    "# Customize the plot\n",
    "ax.set_title('Performance Metrics by Language (OpenAI + Cohere Rerank)', fontsize=16, pad=20)\n",
    "ax.set_xlabel('Language', fontsize=12)\n",
    "ax.set_ylabel('Mean Score', fontsize=12)\n",
    "ax.tick_params(axis='x', rotation=45)\n",
    "\n",
    "# Add value labels on top of each bar\n",
    "for i in ax.containers:\n",
    "    ax.bar_label(i, fmt='%.2f', padding=3)\n",
    "\n",
    "# Add a legend\n",
    "ax.legend(title='Metrics', loc='upper left', bbox_to_anchor=(1, 1))\n",
    "\n",
    "# Adjust layout and display the plot\n",
    "plt.tight_layout()\n",
    "plt.show()"
   ]
  },
  {
   "cell_type": "code",
   "execution_count": null,
   "id": "5c377def-3fd7-413c-9383-354256b30098",
   "metadata": {},
   "outputs": [],
   "source": []
  }
 ],
 "metadata": {
  "accelerator": "GPU",
  "colab": {
   "gpuType": "T4",
   "machine_shape": "hm",
   "provenance": []
  },
  "kernelspec": {
   "display_name": "Python (/usr/bin/python3)",
   "language": "python",
   "name": "my_python3"
  },
  "language_info": {
   "codemirror_mode": {
    "name": "ipython",
    "version": 3
   },
   "file_extension": ".py",
   "mimetype": "text/x-python",
   "name": "python",
   "nbconvert_exporter": "python",
   "pygments_lexer": "ipython3",
   "version": "3.9.6"
  }
 },
 "nbformat": 4,
 "nbformat_minor": 5
}
