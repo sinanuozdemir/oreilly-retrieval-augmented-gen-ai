{
 "cells": [
  {
   "cell_type": "markdown",
   "metadata": {},
   "source": [
    "# Simple CRAG - Corrective Retrieval Augmented Generation\n",
    "\n",
    "Inspiration: https://github.com/langchain-ai/langgraph/blob/main/examples/rag/langgraph_crag.ipynb"
   ]
  },
  {
   "cell_type": "code",
   "execution_count": null,
   "metadata": {},
   "outputs": [],
   "source": [
    "import os\n",
    "\n",
    "os.environ[\"OPENAI_API_KEY\"] = 'sk-***'"
   ]
  },
  {
   "cell_type": "markdown",
   "metadata": {},
   "source": [
    "## Setup / Grabbing Documents"
   ]
  },
  {
   "cell_type": "code",
   "execution_count": 6,
   "metadata": {
    "scrolled": true
   },
   "outputs": [],
   "source": [
    "from langchain.text_splitter import RecursiveCharacterTextSplitter\n",
    "from langchain_community.document_loaders import WebBaseLoader\n",
    "from langchain_community.vectorstores import Chroma\n",
    "from langchain_openai import OpenAIEmbeddings\n",
    "\n",
    "urls = [\n",
    "    \"https://ai-office-hours.beehiiv.com/p/beyond-benchmarks\",\n",
    "    \"https://ai-office-hours.beehiiv.com/p/evaluating-ai-agent-tool-selection\",\n",
    "    \"https://ai-office-hours.beehiiv.com/p/re-ranking-rag\",\n",
    "    \"https://ai-office-hours.beehiiv.com/p/quantizing-llms-llama-3\",\n",
    "    \"https://ai-office-hours.beehiiv.com/p/llm-probing\"\n",
    "]\n",
    "\n",
    "docs = [WebBaseLoader(url).load() for url in urls]\n",
    "docs_list = [item for sublist in docs for item in sublist]\n",
    "\n",
    "text_splitter = RecursiveCharacterTextSplitter.from_tiktoken_encoder(\n",
    "    chunk_size=512, chunk_overlap=128\n",
    ")\n",
    "\n",
    "doc_splits = text_splitter.split_documents(docs_list)\n",
    "\n",
    "# Add to vectorDB\n",
    "vectorstore = Chroma.from_documents(\n",
    "    documents=doc_splits,\n",
    "    collection_name=\"rag-basics\",\n",
    "    embedding=OpenAIEmbeddings(),\n",
    "    persist_directory='./db'\n",
    "    \n",
    ")\n",
    "retriever = vectorstore.as_retriever()"
   ]
  },
  {
   "cell_type": "code",
   "execution_count": 7,
   "metadata": {
    "colab": {
     "base_uri": "https://localhost:8080/"
    },
    "id": "YxTG7Kk2xZhm",
    "outputId": "e08810b4-d44d-4fb6-d3e7-6dad5c406ad8"
   },
   "outputs": [
    {
     "name": "stdout",
     "output_type": "stream",
     "text": [
      "Probing LLMs for a World ModelAI Office HoursLogin ... https://ai-office-hours.beehiiv.com/p/llm-probing\n",
      "Llama or Mistral, we will grab the embedding of th ... https://ai-office-hours.beehiiv.com/p/llm-probing\n",
      "An investigation into data contamination showed th ... https://ai-office-hours.beehiiv.com/p/beyond-benchmarks\n",
      "using an LLM to write marketing copy or to classif ... https://ai-office-hours.beehiiv.com/p/beyond-benchmarks\n"
     ]
    }
   ],
   "source": [
    "question = \"What is LLM Probing?\"\n",
    "docs = retriever.get_relevant_documents(question)\n",
    "for doc in docs:\n",
    "    print(doc.page_content[:50], '...', doc.metadata['source'])"
   ]
  },
  {
   "cell_type": "code",
   "execution_count": 8,
   "metadata": {},
   "outputs": [
    {
     "name": "stdout",
     "output_type": "stream",
     "text": [
      "Probing LLMs for a World ModelAI Office HoursLogin ... https://ai-office-hours.beehiiv.com/p/llm-probing\n",
      "Llama or Mistral, we will grab the embedding of th ... https://ai-office-hours.beehiiv.com/p/llm-probing\n",
      "An investigation into data contamination showed th ... https://ai-office-hours.beehiiv.com/p/beyond-benchmarks\n",
      "using an LLM to write marketing copy or to classif ... https://ai-office-hours.beehiiv.com/p/beyond-benchmarks\n",
      "middle layer of a Llama 13b model with a construct ... https://ai-office-hours.beehiiv.com/p/llm-probing\n",
      "~72x smaller than the Llama 13B models and ~40x sm ... https://ai-office-hours.beehiiv.com/p/llm-probing\n",
      "how often that tool index was actually correct. so ... https://ai-office-hours.beehiiv.com/p/evaluating-ai-agent-tool-selection\n",
      "is right at the end, that would imply the agent se ... https://ai-office-hours.beehiiv.com/p/evaluating-ai-agent-tool-selection\n",
      "Evaluating AI Agent Tool SelectionAI Office HoursL ... https://ai-office-hours.beehiiv.com/p/evaluating-ai-agent-tool-selection\n",
      "to least relevant. That sounds exactly like basic  ... https://ai-office-hours.beehiiv.com/p/re-ranking-rag\n"
     ]
    }
   ],
   "source": [
    "# Only get k=3 documents\n",
    "\n",
    "docs = vectorstore.as_retriever(search_kwargs={'k': 10}).get_relevant_documents(question)\n",
    "for doc in docs:\n",
    "    print(doc.page_content[:50], '...', doc.metadata['source'])"
   ]
  },
  {
   "cell_type": "markdown",
   "metadata": {},
   "source": [
    "## Retrieval Grader"
   ]
  },
  {
   "cell_type": "code",
   "execution_count": 12,
   "metadata": {
    "colab": {
     "base_uri": "https://localhost:8080/"
    },
    "id": "MhapNmaowfp-",
    "outputId": "98a6405d-d1bb-49bb-93a1-cb99e4c2636f",
    "scrolled": true
   },
   "outputs": [
    {
     "name": "stdout",
     "output_type": "stream",
     "text": [
      "reasoning='The document discusses probing large language models (LLMs) to understand whether they memorize statistics or learn cohesive world representations. It describes a method to probe LLMs by designing prompts, extracting embeddings from model layers, and using these embeddings to predict attributes about notable individuals. This directly relates to the concept of LLM probing, which involves analyzing LLM internal representations to assess their knowledge and capabilities.' binary_score='yes' Probing LLMs for a World ModelAI Office HoursLogin ... https://ai-office-hours.beehiiv.com/p/llm-probing\n",
      "reasoning=\"The document provides a detailed explanation of the concept of probing in the context of large language models (LLMs). It describes how probing involves using classifiers or regression layers on top of hidden states to extract information encoded within the model's parameters, such as birth year, death year, and other attributes. The document also explains the purpose of probing as a method to understand the information contained in the model rather than as a direct evaluation of task performance. This directly answers the user question about what LLM probing is.\" binary_score='yes' Llama or Mistral, we will grab the embedding of th ... https://ai-office-hours.beehiiv.com/p/llm-probing\n",
      "reasoning=\"The document discusses data contamination in training large language models (LLMs) and the limitations of benchmarks used to evaluate them. However, it does not mention or explain 'LLM Probing' or provide any information about what LLM Probing is. Therefore, the document is not relevant to the question about the definition or explanation of LLM Probing.\" binary_score='no' An investigation into data contamination showed th ... https://ai-office-hours.beehiiv.com/p/beyond-benchmarks\n",
      "reasoning=\"The document discusses the use of large language models (LLMs) in various applications and benchmarks, particularly focusing on the Humanity's Last Exam (HLE) as a benchmark for AI capabilities. However, it does not define or explain the concept of 'LLM Probing' or provide information directly related to what LLM Probing is. Therefore, the document is not relevant to the user's question about the definition or explanation of LLM Probing.\" binary_score='no' using an LLM to write marketing copy or to classif ... https://ai-office-hours.beehiiv.com/p/beyond-benchmarks\n",
      "reasoning=\"The document discusses experiments involving probing various language models (LLMs) like Llama 13B, BERT, and Mistral to evaluate their ability to encode and retrieve pre-trained knowledge, specifically about birth and death years. It mentions using linear regression on embeddings from model layers to assess how well models store information, which aligns with the concept of LLM probing—analyzing internal representations to understand what knowledge the model has learned. Although the document does not explicitly define 'LLM probing,' it provides a practical example and context that explain what LLM probing entails.\" binary_score='yes' middle layer of a Llama 13b model with a construct ... https://ai-office-hours.beehiiv.com/p/llm-probing\n",
      "reasoning=\"The document discusses the concept of probing in the context of language models, specifically mentioning how different models like BERT, Llama 2, and Mistral are evaluated by probing their encoded knowledge through tasks such as the GSM8K benchmark. It explains that probing involves measuring the efficiency and retrievability of encoded information within models by regressing outputs to actual answers, which aligns with the concept of LLM probing as a method to assess what knowledge is stored and accessible in large language models. Therefore, the document is relevant to the question 'What is LLM Probing?'.\" binary_score='yes' ~72x smaller than the Llama 13B models and ~40x sm ... https://ai-office-hours.beehiiv.com/p/llm-probing\n",
      "reasoning=\"The retrieved document discusses positional bias in tool selection by LLMs and the evaluation of AI agents' performance, but it does not mention or explain what LLM probing is. The content focuses on tool selection biases and testing frameworks rather than the concept or definition of LLM probing.\" binary_score='no' how often that tool index was actually correct. so ... https://ai-office-hours.beehiiv.com/p/evaluating-ai-agent-tool-selection\n",
      "reasoning=\"The document discusses issues related to tool selection in agents using LLMs, particularly focusing on positional bias in Transformer-based models and how it affects tool choice. However, it does not define or explain the concept of 'LLM Probing' directly. The content is about testing tool selection and positional bias rather than probing LLMs to understand their internal representations or behaviors, which is what 'LLM Probing' typically refers to.\" binary_score='no' is right at the end, that would imply the agent se ... https://ai-office-hours.beehiiv.com/p/evaluating-ai-agent-tool-selection\n",
      "reasoning=\"The document discusses AI agents and their evaluation, focusing on how large language models (LLMs) select tools and reason through tasks. However, it does not mention or explain 'LLM Probing' or provide any information about what LLM Probing is. Therefore, the document is not relevant to the question asking for the definition or explanation of LLM Probing.\" binary_score='no' Evaluating AI Agent Tool SelectionAI Office HoursL ... https://ai-office-hours.beehiiv.com/p/evaluating-ai-agent-tool-selection\n",
      "reasoning=\"The document discusses concepts related to retrieval and re-ranking in language models, including embeddings, vector databases, and chatbot case studies. However, it does not mention or explain 'LLM Probing' specifically, which is the user question. Therefore, the document is not relevant to the question about LLM Probing.\" binary_score='no' to least relevant. That sounds exactly like basic  ... https://ai-office-hours.beehiiv.com/p/re-ranking-rag\n"
     ]
    }
   ],
   "source": [
    "from langchain_core.prompts import ChatPromptTemplate\n",
    "from pydantic import BaseModel, Field\n",
    "from langchain_openai import ChatOpenAI\n",
    "\n",
    "\n",
    "# Data model\n",
    "class GradeDocuments(BaseModel):\n",
    "    \"\"\"Binary score for relevance check on retrieved documents.\"\"\"\n",
    "    reasoning: str = Field(\n",
    "        description='step by step explanation of aspects of the document that match the question, if it matches at all'\n",
    "    )\n",
    "    binary_score: str = Field(\n",
    "        description=\"Documents are relevant to the question, 'yes' or 'no'\"\n",
    "    )\n",
    "\n",
    "# LLM with structured output\n",
    "llm = ChatOpenAI(model=\"gpt-4.1-mini\", temperature=0)\n",
    "structured_llm_grader = llm.with_structured_output(GradeDocuments)\n",
    "\n",
    "\n",
    "# Prompt\n",
    "system = \"\"\"Give a binary score 'yes' or 'no' to indicate whether the document is relevant to the question.\"\"\"\n",
    "grade_prompt = ChatPromptTemplate.from_messages(\n",
    "    [\n",
    "        (\"system\", system),\n",
    "        (\"human\", \"Retrieved document: \\n\\n {document} \\n\\n User question: {question}\"),\n",
    "    ]\n",
    ")\n",
    "\n",
    "retrieval_grader = grade_prompt | structured_llm_grader  # llm + prompt\n",
    "\n",
    "for doc in docs:\n",
    "    doc_txt = doc.page_content\n",
    "    print(retrieval_grader.invoke({\"question\": question, \"document\": doc_txt}), doc_txt[:50], '...', doc.metadata['source'])"
   ]
  },
  {
   "cell_type": "markdown",
   "metadata": {
    "id": "H2X8QeJkxye7"
   },
   "source": [
    "## Generate Compoments"
   ]
  },
  {
   "cell_type": "code",
   "execution_count": 14,
   "metadata": {
    "colab": {
     "base_uri": "https://localhost:8080/"
    },
    "id": "Yfm8E7gvwu3C",
    "outputId": "8d6e0406-b041-448c-eaad-9cefbb745fc0"
   },
   "outputs": [
    {
     "name": "stdout",
     "output_type": "stream",
     "text": [
      "<class 'langchain_core.prompts.chat.HumanMessagePromptTemplate'>\n",
      "You are an assistant for question-answering tasks. Use the following pieces of retrieved context to answer the question. If you don't know the answer, just say that you don't know. Use three sentences maximum and keep the answer concise.\n",
      "Question: {question} \n",
      "Context: {context} \n",
      "Answer:\n",
      "-----\n"
     ]
    },
    {
     "name": "stderr",
     "output_type": "stream",
     "text": [
      "/Users/sinanozdemir/Library/Python/3.9/lib/python/site-packages/langsmith/client.py:272: LangSmithMissingAPIKeyWarning: API key must be provided when using hosted LangSmith API\n",
      "  warnings.warn(\n"
     ]
    }
   ],
   "source": [
    "from langchain import hub\n",
    "from langchain_core.output_parsers import StrOutputParser\n",
    "\n",
    "# Prompt\n",
    "prompt = hub.pull(\"rlm/rag-prompt\")\n",
    "for message in prompt.messages:\n",
    "    print(type(message))\n",
    "    print(message.prompt.template)\n",
    "    print('-----')"
   ]
  },
  {
   "cell_type": "code",
   "execution_count": 15,
   "metadata": {
    "colab": {
     "base_uri": "https://localhost:8080/"
    },
    "id": "bUzV8hwgx0G0",
    "outputId": "78fd6604-2e40-4979-992e-c79323472b8e"
   },
   "outputs": [
    {
     "name": "stdout",
     "output_type": "stream",
     "text": [
      "LLM probing is a technique used to analyze what information large language models (LLMs) have encoded in their internal representations. It typically involves extracting embeddings (hidden states) from various layers of the model in response to specific prompts, and then using simple classifiers or regressors to see if certain information (like a person's birth year) can be predicted from those embeddings. The goal is to understand how much and what kind of knowledge is stored within the model, rather than to evaluate its performance on a specific task.\n"
     ]
    }
   ],
   "source": [
    "# LLM\n",
    "llm = ChatOpenAI(model_name=\"gpt-4.1\", temperature=0)\n",
    "\n",
    "# Post-processing\n",
    "def format_docs(docs):\n",
    "    return \"\\n\\n\".join(doc.page_content for doc in docs)\n",
    "\n",
    "# Chain\n",
    "rag_chain = prompt | llm | StrOutputParser()\n",
    "\n",
    "# Run\n",
    "generation = rag_chain.invoke({\"context\": format_docs(docs), \"question\": question})\n",
    "print(generation)"
   ]
  },
  {
   "cell_type": "markdown",
   "metadata": {},
   "source": [
    "## Question Re-writer / The Corrective Part"
   ]
  },
  {
   "cell_type": "code",
   "execution_count": 22,
   "metadata": {
    "colab": {
     "base_uri": "https://localhost:8080/"
    },
    "id": "rX5WDbN6z010",
    "outputId": "b558819c-b304-4107-c5ce-320b4de76d03"
   },
   "outputs": [
    {
     "data": {
      "text/plain": [
       "('What is LLM Probing?',\n",
       " 'What does \"LLM probing\" mean in the context of large language models and artificial intelligence research?')"
      ]
     },
     "execution_count": 22,
     "metadata": {},
     "output_type": "execute_result"
    }
   ],
   "source": [
    "# A different LLM, just to show we can use multiple LLMs in our calls\n",
    "bigger_llm = ChatOpenAI(model=\"gpt-4.1\", temperature=0.1)\n",
    "\n",
    "# Prompt\n",
    "system = \"\"\"You are a question re-writer that converts an input question to a better version that is optimized \\n\n",
    "     for web search. Look at the input and try to reason about the underlying semantic intent / meaning.\n",
    "     \n",
    "Good examples of re-written queries:\n",
    "Original text: \"Make cookie taste better\"\n",
    "Re-Written text: \"Techniques for enchancing flavor of cookie (chocolate chip, sugar, etc)\"\n",
    "\"\"\"\n",
    "re_write_prompt = ChatPromptTemplate.from_messages(\n",
    "    [\n",
    "        (\"system\", system),\n",
    "        (\n",
    "            \"human\",\n",
    "            \"Here is the initial question: \\n\\n {question} \\n Formulate an improved question.\",\n",
    "        ),\n",
    "    ]\n",
    ")\n",
    "\n",
    "question_rewriter = re_write_prompt | bigger_llm | StrOutputParser()\n",
    "question, question_rewriter.invoke({\"question\": question})"
   ]
  },
  {
   "cell_type": "code",
   "execution_count": null,
   "metadata": {
    "id": "xXf2XKOKz1AW"
   },
   "outputs": [],
   "source": []
  },
  {
   "cell_type": "markdown",
   "metadata": {},
   "source": [
    "## Graph State"
   ]
  },
  {
   "cell_type": "code",
   "execution_count": 23,
   "metadata": {
    "id": "9MlJ26oXzJqw"
   },
   "outputs": [],
   "source": [
    "from typing import List\n",
    "\n",
    "from typing_extensions import TypedDict\n",
    "\n",
    "class GraphState(TypedDict):\n",
    "    \"\"\"\n",
    "    Represents the state of our graph.\n",
    "\n",
    "    Attributes:\n",
    "        question: question\n",
    "        generation: LLM generation\n",
    "        documents: list of documents\n",
    "        times_transformed: number of times the question has been re-written\n",
    "        web_search: if we should be doing a web search (not implemented in this notebook)\n",
    "    \"\"\"\n",
    "\n",
    "    question: str\n",
    "    generation: str\n",
    "    documents: List[str]\n",
    "    times_transformed: int\n",
    "    web_search: str"
   ]
  },
  {
   "cell_type": "markdown",
   "metadata": {},
   "source": [
    "## The Nodes"
   ]
  },
  {
   "cell_type": "code",
   "execution_count": 24,
   "metadata": {},
   "outputs": [],
   "source": [
    "from langchain.schema import Document\n",
    "\n",
    "\n",
    "def set_state(state):\n",
    "    \"\"\"\n",
    "    Sets initial state\n",
    "\n",
    "    Args:\n",
    "        state (dict): The current graph state\n",
    "\n",
    "    Returns:\n",
    "        state (dict): New key added to state, documents, that contains retrieved documents\n",
    "    \"\"\"\n",
    "    print(\"---SET STATE---\")\n",
    "\n",
    "    return {\"times_transformed\": 0}\n",
    "\n",
    "\n",
    "\n",
    "def retrieve(state):\n",
    "    print(state)\n",
    "    \"\"\"\n",
    "    Retrieve documents\n",
    "\n",
    "    Args:\n",
    "        state (dict): The current graph state\n",
    "\n",
    "    Returns:\n",
    "        state (dict): New key added to state, documents, that contains retrieved documents\n",
    "    \"\"\"\n",
    "    print(\"---RETRIEVE---\")\n",
    "    question = state[\"question\"]\n",
    "\n",
    "    # Retrieval\n",
    "    documents = retriever.get_relevant_documents(question)\n",
    "    return {\"documents\": documents}\n",
    "\n",
    "\n",
    "def generate(state):\n",
    "    \"\"\"\n",
    "    Generate answer\n",
    "\n",
    "    Args:\n",
    "        state (dict): The current graph state\n",
    "\n",
    "    Returns:\n",
    "        state (dict): New key added to state, generation, that contains LLM generation\n",
    "    \"\"\"\n",
    "    print(\"---GENERATE---\")\n",
    "    question = state[\"question\"]\n",
    "    documents = state[\"documents\"]\n",
    "\n",
    "    # RAG generation\n",
    "    generation = rag_chain.invoke({\"context\": format_docs(documents), \"question\": question})\n",
    "    return {\"generation\": generation}\n",
    "\n",
    "\n",
    "def transform_query(state):\n",
    "    \"\"\"\n",
    "    Transform the query to produce a better question.\n",
    "\n",
    "    Args:\n",
    "        state (dict): The current graph state\n",
    "\n",
    "    Returns:\n",
    "        state (dict): Updates question key with a re-phrased question\n",
    "    \"\"\"\n",
    "\n",
    "    print(\"---TRANSFORM QUERY---\")\n",
    "    question = state[\"question\"]\n",
    "    times_transformed = state[\"times_transformed\"]\n",
    "    times_transformed += 1\n",
    "\n",
    "    # Re-write question\n",
    "    better_question = question_rewriter.invoke({\"question\": question})\n",
    "    print('---NEW QUESTION---')\n",
    "    print(better_question)\n",
    "    return {\"question\": better_question, \"times_transformed\": times_transformed}\n",
    "\n",
    "\n",
    "def grade_documents(state):\n",
    "    \"\"\"\n",
    "    Determines whether the retrieved documents are relevant to the question.\n",
    "\n",
    "    Args:\n",
    "        state (dict): The current graph state\n",
    "\n",
    "    Returns:\n",
    "        state (dict): Updates documents key with only filtered relevant documents\n",
    "    \"\"\"\n",
    "\n",
    "    print(\"---CHECK DOCUMENT RELEVANCE TO QUESTION---\")\n",
    "    question = state[\"question\"]\n",
    "    documents = state[\"documents\"]\n",
    "\n",
    "    # Score each doc\n",
    "    filtered_docs = []\n",
    "    web_search = \"No\"\n",
    "    for d in documents:\n",
    "        score = retrieval_grader.invoke(\n",
    "            {\"question\": question, \"document\": d.page_content}\n",
    "        )\n",
    "        grade = score.binary_score\n",
    "        print(d.metadata['source'], f'Grade: {grade}')\n",
    "        if grade == \"yes\":\n",
    "            print(\"---GRADE: DOCUMENT RELEVANT---\")\n",
    "            filtered_docs.append(d)\n",
    "    if len(filtered_docs) == 0:\n",
    "        print(\"---GRADE: DOCUMENTS NOT RELEVANT---\")\n",
    "        web_search = \"Yes\"\n",
    "    return {\"documents\": filtered_docs, \"web_search\": web_search}\n"
   ]
  },
  {
   "cell_type": "markdown",
   "metadata": {},
   "source": [
    "## The Edges"
   ]
  },
  {
   "cell_type": "code",
   "execution_count": 18,
   "metadata": {
    "id": "dE99Sfa-zOvA"
   },
   "outputs": [],
   "source": [
    "def decide_to_generate(state):\n",
    "    \"\"\"\n",
    "    Determines whether to generate an answer, or re-generate a question.\n",
    "\n",
    "    Args:\n",
    "        state (dict): The current graph state\n",
    "\n",
    "    Returns:\n",
    "        str: Binary decision for next node to call\n",
    "    \"\"\"\n",
    "\n",
    "    print(\"---ASSESS GRADED DOCUMENTS---\")\n",
    "    web_search = state[\"web_search\"]\n",
    "    # state[\"documents\"]\n",
    "\n",
    "    if web_search == \"Yes\":\n",
    "        # check times_transformed\n",
    "        if state[\"times_transformed\"] >= 3:\n",
    "            print(\n",
    "                \"---DECISION: ALL DOCUMENTS ARE NOT RELEVANT TO QUESTION AND WE HAVE TRANSFORMED 3 TIMES, GENERATE---\"\n",
    "            )\n",
    "            return \"should_generate\" # could also web search\n",
    "\n",
    "        # All documents have been filtered check_relevance\n",
    "        # We will re-generate a new query\n",
    "        print(\n",
    "            \"---DECISION: ALL DOCUMENTS ARE NOT RELEVANT TO QUESTION, TRANSFORM QUERY---\"\n",
    "        )\n",
    "        return \"should_transform_query\"\n",
    "    else:\n",
    "        # We have relevant documents, so generate answer\n",
    "        print(\"---DECISION: GENERATE---\")\n",
    "        return \"should_generate\""
   ]
  },
  {
   "cell_type": "markdown",
   "metadata": {},
   "source": [
    "## Building the Graph"
   ]
  },
  {
   "cell_type": "code",
   "execution_count": 19,
   "metadata": {
    "id": "z2wbXWAAzm1k"
   },
   "outputs": [],
   "source": [
    "from langgraph.graph import END, StateGraph, START\n",
    "\n",
    "workflow = StateGraph(GraphState)\n",
    "\n",
    "# Define the nodes\n",
    "workflow.add_node(\"set_state\", set_state)  # set_state\n",
    "workflow.add_node(\"retrieve\", retrieve)  # retrieve\n",
    "workflow.add_node(\"grade_documents\", grade_documents)  # grade documents\n",
    "workflow.add_node(\"generate\", generate)  # generatae\n",
    "workflow.add_node(\"transform_query\", transform_query)  # transform_query\n",
    "\n",
    "# Build graph\n",
    "workflow.add_edge(START, \"set_state\")\n",
    "workflow.add_edge(\"set_state\", \"retrieve\")\n",
    "workflow.add_edge(\"retrieve\", \"grade_documents\")\n",
    "workflow.add_conditional_edges(\n",
    "    \"grade_documents\",\n",
    "    decide_to_generate,\n",
    "    {\n",
    "        \"should_transform_query\": \"transform_query\",\n",
    "        \"should_generate\": \"generate\",\n",
    "    },\n",
    ")\n",
    "workflow.add_edge(\"transform_query\", \"retrieve\")\n",
    "workflow.add_edge(\"generate\", END)\n",
    "\n",
    "# Compile\n",
    "app = workflow.compile()"
   ]
  },
  {
   "cell_type": "markdown",
   "metadata": {},
   "source": [
    "## Running the Graph"
   ]
  },
  {
   "cell_type": "code",
   "execution_count": 20,
   "metadata": {
    "colab": {
     "base_uri": "https://localhost:8080/"
    },
    "id": "aJ_wjx_M3Db-",
    "outputId": "6ab8e986-702b-4a26-b4ca-74a0ec593d60"
   },
   "outputs": [
    {
     "name": "stdout",
     "output_type": "stream",
     "text": [
      "---SET STATE---\n",
      "Node 'set_state':\n",
      "{'question': 'What on earth is LLM Probing', 'times_transformed': 0}\n",
      "---RETRIEVE---\n",
      "Node 'retrieve':\n",
      "---CHECK DOCUMENT RELEVANCE TO QUESTION---\n",
      "https://ai-office-hours.beehiiv.com/p/llm-probing Grade: yes\n",
      "---GRADE: DOCUMENT RELEVANT---\n",
      "https://ai-office-hours.beehiiv.com/p/llm-probing Grade: yes\n",
      "---GRADE: DOCUMENT RELEVANT---\n",
      "https://ai-office-hours.beehiiv.com/p/beyond-benchmarks Grade: no\n",
      "https://ai-office-hours.beehiiv.com/p/beyond-benchmarks Grade: no\n",
      "---ASSESS GRADED DOCUMENTS---\n",
      "---DECISION: GENERATE---\n",
      "Node 'grade_documents':\n",
      "---GENERATE---\n",
      "Node 'generate':\n",
      "LLM probing is a technique used to analyze what information large language models (LLMs) have encoded in their internal representations. It typically involves extracting hidden state embeddings from the model (at various layers) and using simple classifiers or regressors to see if specific information (like a person's birth year) can be predicted from those embeddings. This helps researchers understand what knowledge is \"locked away\" in the model and how it is represented internally.\n"
     ]
    }
   ],
   "source": [
    "# Run\n",
    "inputs = {\"question\": \"What on earth is LLM Probing\"}\n",
    "for output in app.stream(inputs):\n",
    "    for key, value in output.items():\n",
    "        # Node\n",
    "        print(f\"Node '{key}':\")\n",
    "# Final generation\n",
    "print(value[\"generation\"])"
   ]
  },
  {
   "cell_type": "code",
   "execution_count": 25,
   "metadata": {
    "scrolled": true
   },
   "outputs": [
    {
     "name": "stdout",
     "output_type": "stream",
     "text": [
      "---SET STATE---\n",
      "Node 'set_state':\n",
      "{'question': 'make my LLM faster', 'times_transformed': 0}\n",
      "---RETRIEVE---\n",
      "Node 'retrieve':\n",
      "---CHECK DOCUMENT RELEVANCE TO QUESTION---\n",
      "https://ai-office-hours.beehiiv.com/p/llm-probing Grade: no\n",
      "https://ai-office-hours.beehiiv.com/p/beyond-benchmarks Grade: no\n",
      "https://ai-office-hours.beehiiv.com/p/beyond-benchmarks Grade: no\n",
      "https://ai-office-hours.beehiiv.com/p/beyond-benchmarks Grade: no\n",
      "---GRADE: DOCUMENTS NOT RELEVANT---\n",
      "---ASSESS GRADED DOCUMENTS---\n",
      "---DECISION: ALL DOCUMENTS ARE NOT RELEVANT TO QUESTION, TRANSFORM QUERY---\n",
      "Node 'grade_documents':\n",
      "---TRANSFORM QUERY---\n",
      "---NEW QUESTION---\n",
      "How can I improve the speed and performance of my large language model (LLM)?\n",
      "Node 'transform_query':\n",
      "{'question': 'How can I improve the speed and performance of my large language model (LLM)?', 'documents': [], 'times_transformed': 1, 'web_search': 'Yes'}\n",
      "---RETRIEVE---\n",
      "Node 'retrieve':\n",
      "---CHECK DOCUMENT RELEVANCE TO QUESTION---\n",
      "https://ai-office-hours.beehiiv.com/p/llm-probing Grade: no\n",
      "https://ai-office-hours.beehiiv.com/p/quantizing-llms-llama-3 Grade: yes\n",
      "---GRADE: DOCUMENT RELEVANT---\n",
      "https://ai-office-hours.beehiiv.com/p/llm-probing Grade: no\n",
      "https://ai-office-hours.beehiiv.com/p/re-ranking-rag Grade: yes\n",
      "---GRADE: DOCUMENT RELEVANT---\n",
      "---ASSESS GRADED DOCUMENTS---\n",
      "---DECISION: GENERATE---\n",
      "Node 'grade_documents':\n",
      "---GENERATE---\n",
      "Node 'generate':\n",
      "To improve the speed and performance of your large language model (LLM), you can use quantization, which reduces memory usage and enhances computation speed during inference. However, quantization may slightly reduce accuracy, so it's recommended to fine-tune the quantized model using techniques like QLORA to restore or improve performance. Always test the quantized and fine-tuned models to ensure the right balance between efficiency and accuracy for your application.\n"
     ]
    }
   ],
   "source": [
    "inputs = {\"question\": \"make my LLM faster\"}\n",
    "for output in app.stream(inputs):\n",
    "    for key, value in output.items():\n",
    "        # Node\n",
    "        print(f\"Node '{key}':\")\n",
    "# Final generation\n",
    "print(value[\"generation\"])"
   ]
  },
  {
   "cell_type": "code",
   "execution_count": 26,
   "metadata": {
    "colab": {
     "base_uri": "https://localhost:8080/"
    },
    "id": "qPsnn1CG5QHG",
    "outputId": "8f9299f3-22d4-4101-e7dc-9dbecdd84fea",
    "scrolled": true
   },
   "outputs": [
    {
     "name": "stdout",
     "output_type": "stream",
     "text": [
      "---SET STATE---\n",
      "Node 'set_state':\n",
      "{'question': 'How to make good inputs to AI?', 'times_transformed': 0}\n",
      "---RETRIEVE---\n",
      "Node 'retrieve':\n",
      "---CHECK DOCUMENT RELEVANCE TO QUESTION---\n",
      "https://ai-office-hours.beehiiv.com/p/beyond-benchmarks Grade: no\n",
      "https://ai-office-hours.beehiiv.com/p/evaluating-ai-agent-tool-selection Grade: no\n",
      "https://ai-office-hours.beehiiv.com/p/quantizing-llms-llama-3 Grade: no\n",
      "https://ai-office-hours.beehiiv.com/p/re-ranking-rag Grade: no\n",
      "---GRADE: DOCUMENTS NOT RELEVANT---\n",
      "---ASSESS GRADED DOCUMENTS---\n",
      "---DECISION: ALL DOCUMENTS ARE NOT RELEVANT TO QUESTION, TRANSFORM QUERY---\n",
      "Node 'grade_documents':\n",
      "---TRANSFORM QUERY---\n",
      "---NEW QUESTION---\n",
      "Best practices for creating effective prompts and inputs for AI models\n",
      "Node 'transform_query':\n",
      "{'question': 'Best practices for creating effective prompts and inputs for AI models', 'documents': [], 'times_transformed': 1, 'web_search': 'Yes'}\n",
      "---RETRIEVE---\n",
      "Node 'retrieve':\n",
      "---CHECK DOCUMENT RELEVANCE TO QUESTION---\n",
      "https://ai-office-hours.beehiiv.com/p/re-ranking-rag Grade: no\n",
      "https://ai-office-hours.beehiiv.com/p/beyond-benchmarks Grade: no\n",
      "https://ai-office-hours.beehiiv.com/p/re-ranking-rag Grade: no\n",
      "https://ai-office-hours.beehiiv.com/p/evaluating-ai-agent-tool-selection Grade: no\n",
      "---GRADE: DOCUMENTS NOT RELEVANT---\n",
      "---ASSESS GRADED DOCUMENTS---\n",
      "---DECISION: ALL DOCUMENTS ARE NOT RELEVANT TO QUESTION, TRANSFORM QUERY---\n",
      "Node 'grade_documents':\n",
      "---TRANSFORM QUERY---\n",
      "---NEW QUESTION---\n",
      "Best practices for designing effective prompts and input instructions for AI language models\n",
      "Node 'transform_query':\n",
      "{'question': 'Best practices for designing effective prompts and input instructions for AI language models', 'documents': [], 'times_transformed': 2, 'web_search': 'Yes'}\n",
      "---RETRIEVE---\n",
      "Node 'retrieve':\n",
      "---CHECK DOCUMENT RELEVANCE TO QUESTION---\n",
      "https://ai-office-hours.beehiiv.com/p/re-ranking-rag Grade: no\n",
      "https://ai-office-hours.beehiiv.com/p/beyond-benchmarks Grade: no\n",
      "https://ai-office-hours.beehiiv.com/p/re-ranking-rag Grade: no\n",
      "https://ai-office-hours.beehiiv.com/p/evaluating-ai-agent-tool-selection Grade: no\n",
      "---GRADE: DOCUMENTS NOT RELEVANT---\n",
      "---ASSESS GRADED DOCUMENTS---\n",
      "---DECISION: ALL DOCUMENTS ARE NOT RELEVANT TO QUESTION, TRANSFORM QUERY---\n",
      "Node 'grade_documents':\n",
      "---TRANSFORM QUERY---\n",
      "---NEW QUESTION---\n",
      "Best strategies for creating clear and effective prompts and input instructions for AI language models\n",
      "Node 'transform_query':\n",
      "{'question': 'Best strategies for creating clear and effective prompts and input instructions for AI language models', 'documents': [], 'times_transformed': 3, 'web_search': 'Yes'}\n",
      "---RETRIEVE---\n",
      "Node 'retrieve':\n",
      "---CHECK DOCUMENT RELEVANCE TO QUESTION---\n",
      "https://ai-office-hours.beehiiv.com/p/re-ranking-rag Grade: no\n",
      "https://ai-office-hours.beehiiv.com/p/beyond-benchmarks Grade: no\n",
      "https://ai-office-hours.beehiiv.com/p/evaluating-ai-agent-tool-selection Grade: no\n",
      "https://ai-office-hours.beehiiv.com/p/re-ranking-rag Grade: no\n",
      "---GRADE: DOCUMENTS NOT RELEVANT---\n",
      "---ASSESS GRADED DOCUMENTS---\n",
      "---DECISION: ALL DOCUMENTS ARE NOT RELEVANT TO QUESTION AND WE HAVE TRANSFORMED 3 TIMES, GENERATE---\n",
      "Node 'grade_documents':\n",
      "---GENERATE---\n",
      "Node 'generate':\n",
      "The best strategies for creating clear and effective prompts and input instructions for AI language models include being specific and unambiguous about the desired output, providing relevant context or examples, and breaking down complex tasks into simpler steps. Use concise language and avoid vague terms to minimize misinterpretation. Additionally, iteratively test and refine prompts based on the model’s responses to improve clarity and effectiveness.\n"
     ]
    }
   ],
   "source": [
    "# Run\n",
    "inputs = {\"question\": \"How to make good inputs to AI?\"}\n",
    "for output in app.stream(inputs):\n",
    "    for key, value in output.items():\n",
    "        # Node\n",
    "        print(f\"Node '{key}':\")\n",
    "# Final generation\n",
    "print(value[\"generation\"])"
   ]
  },
  {
   "cell_type": "markdown",
   "metadata": {},
   "source": [
    "## Visualize the Graph"
   ]
  },
  {
   "cell_type": "code",
   "execution_count": 31,
   "metadata": {
    "colab": {
     "base_uri": "https://localhost:8080/",
     "height": 473
    },
    "id": "18SWafVC0Yxn",
    "outputId": "55cc9f34-d2e5-4d6c-c60c-726992960383"
   },
   "outputs": [
    {
     "data": {
      "image/png": "[encoded data removed]",
      "text/plain": [
       "<IPython.core.display.Image object>"
      ]
     },
     "metadata": {},
     "output_type": "display_data"
    }
   ],
   "source": [
    "# Visualize our graph\n",
    "from IPython.display import Image, display\n",
    "try:\n",
    "    display(Image(app.get_graph().draw_mermaid_png()))\n",
    "except Exception:\n",
    "    pass"
   ]
  },
  {
   "cell_type": "code",
   "execution_count": 32,
   "metadata": {},
   "outputs": [
    {
     "name": "stdout",
     "output_type": "stream",
     "text": [
      "                +-----------+                  \n",
      "                | __start__ |                  \n",
      "                +-----------+                  \n",
      "                       *                       \n",
      "                       *                       \n",
      "                       *                       \n",
      "                +-----------+                  \n",
      "                | set_state |                  \n",
      "                +-----------+                  \n",
      "                       *                       \n",
      "                       *                       \n",
      "                       *                       \n",
      "                 +----------+                  \n",
      "                 | retrieve |                  \n",
      "                 +----------+                  \n",
      "                **           **                \n",
      "              **               **              \n",
      "            **                   **            \n",
      "+-----------------+                **          \n",
      "| grade_documents |                 *          \n",
      "+-----------------+..               *          \n",
      "          .          .....          *          \n",
      "          .               ....      *          \n",
      "          .                   ...   *          \n",
      "    +----------+           +-----------------+ \n",
      "    | generate |           | transform_query | \n",
      "    +----------+           +-----------------+ \n",
      "          *                                    \n",
      "          *                                    \n",
      "          *                                    \n",
      "    +---------+                                \n",
      "    | __end__ |                                \n",
      "    +---------+                                \n"
     ]
    }
   ],
   "source": [
    "# if the above fails try this (requires grandalf)\n",
    "\n",
    "print(app.get_graph().draw_ascii())"
   ]
  },
  {
   "cell_type": "code",
   "execution_count": null,
   "metadata": {},
   "outputs": [],
   "source": []
  },
  {
   "cell_type": "code",
   "execution_count": null,
   "metadata": {},
   "outputs": [],
   "source": []
  },
  {
   "cell_type": "code",
   "execution_count": null,
   "metadata": {},
   "outputs": [],
   "source": []
  }
 ],
 "metadata": {
  "colab": {
   "provenance": []
  },
  "kernelspec": {
   "display_name": "Python (/usr/bin/python3)",
   "language": "python",
   "name": "my_python3"
  },
  "language_info": {
   "codemirror_mode": {
    "name": "ipython",
    "version": 3
   },
   "file_extension": ".py",
   "mimetype": "text/x-python",
   "name": "python",
   "nbconvert_exporter": "python",
   "pygments_lexer": "ipython3",
   "version": "3.9.6"
  }
 },
 "nbformat": 4,
 "nbformat_minor": 4
}
